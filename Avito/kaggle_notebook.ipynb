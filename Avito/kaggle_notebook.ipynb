{
 "metadata": {
  "kernelspec": {
   "language": "python",
   "display_name": "Python 3",
   "name": "python3"
  },
  "language_info": {
   "name": "python",
   "version": "3.10.12",
   "mimetype": "text/x-python",
   "codemirror_mode": {
    "name": "ipython",
    "version": 3
   },
   "pygments_lexer": "ipython3",
   "nbconvert_exporter": "python",
   "file_extension": ".py"
  },
  "kaggle": {
   "accelerator": "gpu",
   "dataSources": [
    {
     "sourceId": 10971901,
     "sourceType": "datasetVersion",
     "datasetId": 6827172
    },
    {
     "sourceId": 10983076,
     "sourceType": "datasetVersion",
     "datasetId": 6835374
    },
    {
     "sourceId": 10992447,
     "sourceType": "datasetVersion",
     "datasetId": 6842136
    },
    {
     "sourceId": 10994416,
     "sourceType": "datasetVersion",
     "datasetId": 6843569
    }
   ],
   "dockerImageVersionId": 30919,
   "isInternetEnabled": true,
   "language": "python",
   "sourceType": "notebook",
   "isGpuEnabled": true
  }
 },
 "nbformat_minor": 4,
 "nbformat": 4,
 "cells": [
  {
   "cell_type": "code",
   "source": [
    "from IPython.display import clear_output\n",
    "\n",
    "!pip install -U torch torchvision transformers\n",
    "# !pip install ninja cmake wheel  # Обязательные для компиляции\n",
    "!pip install ultralytics\n",
    "!pip install colorthief\n",
    "# !rm -rf /root/.cache/torch_extensions\n",
    "clear_output()"
   ],
   "metadata": {
    "trusted": true
   },
   "outputs": [],
   "execution_count": null
  },
  {
   "cell_type": "code",
   "source": [
    "from transformers import AutoProcessor, AutoModelForZeroShotObjectDetection\n",
    "\n",
    "# from ultralytics import YOLOWorld\n",
    "\n",
    "import cv2\n",
    "import matplotlib.pyplot as plt\n",
    "import torch\n",
    "from pathlib import Path\n",
    "import os\n",
    "\n",
    "# from colorthief import ColorThief\n",
    "import pandas as pd\n",
    "import sklearn\n",
    "\n",
    "\n",
    "import numpy as np\n",
    "import matplotlib.pyplot as plt\n",
    "import torch.nn as nn\n",
    "import torch.optim as optim\n",
    "from torchvision import datasets, transforms\n",
    "import timm\n",
    "from torch.utils.data import Dataset, DataLoader\n",
    "\n",
    "from PIL import Image, ImageDraw, ImageFont\n",
    "import json\n",
    "\n",
    "# from ultralytics import YOLO, YOLOWorld\n",
    "from sklearn.preprocessing import LabelEncoder\n",
    "from sklearn.model_selection import train_test_split\n",
    "import math\n",
    "from transformers import get_cosine_schedule_with_warmup\n",
    "from torchmetrics.wrappers import ClasswiseWrapper\n",
    "from torchmetrics import MetricCollection\n",
    "import albumentations as A\n",
    "from IPython.display import clear_output\n",
    "import cv2\n",
    "from tqdm import tqdm\n",
    "from albumentations.pytorch import ToTensorV2\n",
    "from torchmetrics.classification import (\n",
    "    MulticlassAccuracy,\n",
    "    MulticlassPrecision,\n",
    "    MulticlassRecall,\n",
    "    MulticlassF1Score,\n",
    ")\n",
    "from pathlib import Path\n",
    "from IPython.display import clear_output"
   ],
   "metadata": {
    "trusted": true
   },
   "outputs": [],
   "execution_count": null
  },
  {
   "cell_type": "code",
   "source": [
    "index_classname = {\n",
    "    \"chernyi\": 4,\n",
    "    \"belyi\": 0,\n",
    "    \"korichnevyi\": 7,\n",
    "    \"raznocvetnyi\": 10,\n",
    "    \"bezhevyi\": 1,\n",
    "    \"sinii\": 14,\n",
    "    \"rozovyi\": 11,\n",
    "    \"seryi\": 13,\n",
    "    \"zelenyi\": 15,\n",
    "    \"krasnyi\": 8,\n",
    "    \"goluboi\": 6,\n",
    "    \"fioletovyi\": 5,\n",
    "    \"bordovyi\": 3,\n",
    "    \"zheltyi\": 16,\n",
    "    \"oranzhevyi\": 9,\n",
    "    \"serebristyi\": 12,\n",
    "    \"zolotoi\": 17,\n",
    "    \"biryuzovyi\": 2,\n",
    "}"
   ],
   "metadata": {
    "trusted": true
   },
   "outputs": [],
   "execution_count": null
  },
  {
   "cell_type": "code",
   "source": [
    "data = pd.read_csv(\"/kaggle/input/purpel/dataset_colors/train_data.csv\")"
   ],
   "metadata": {
    "trusted": true,
    "execution": {
     "iopub.status.busy": "2025-03-13T10:11:16.157886Z",
     "iopub.execute_input": "2025-03-13T10:11:16.158267Z",
     "iopub.status.idle": "2025-03-13T10:11:16.190588Z",
     "shell.execute_reply.started": "2025-03-13T10:11:16.158240Z",
     "shell.execute_reply": "2025-03-13T10:11:16.189879Z"
    }
   },
   "outputs": [],
   "execution_count": 14
  },
  {
   "cell_type": "markdown",
   "source": "# SPLit",
   "metadata": {}
  },
  {
   "cell_type": "code",
   "source": [
    "data[\"target\"] = data[\"target\"].map(index_classname)\n",
    "train, val = train_test_split(\n",
    "    data, test_size=0.15, random_state=42, stratify=data[\"target\"]\n",
    ")\n",
    "train.to_csv(\"train_sp.csv\", index=False)\n",
    "val.to_csv(\"val_sp.csv\", index=False)"
   ],
   "metadata": {
    "trusted": true,
    "execution": {
     "iopub.status.busy": "2025-03-13T10:04:40.966885Z",
     "iopub.execute_input": "2025-03-13T10:04:40.967230Z",
     "iopub.status.idle": "2025-03-13T10:04:41.046596Z",
     "shell.execute_reply.started": "2025-03-13T10:04:40.967198Z",
     "shell.execute_reply": "2025-03-13T10:04:41.045926Z"
    }
   },
   "outputs": [],
   "execution_count": 5
  },
  {
   "cell_type": "markdown",
   "source": "## weights www",
   "metadata": {}
  },
  {
   "cell_type": "code",
   "source": [
    "seet = pd.read_csv(\"/kaggle/working/train_sp.csv\")\n",
    "N = len(seet)\n",
    "unique_classes = seet[\"target\"].unique()\n",
    "class_counts = seet[\"target\"].value_counts().sort_index()\n",
    "weights = N / (18 * class_counts)"
   ],
   "metadata": {
    "trusted": true,
    "execution": {
     "iopub.status.busy": "2025-03-13T07:43:27.697512Z",
     "iopub.execute_input": "2025-03-13T07:43:27.697832Z",
     "iopub.status.idle": "2025-03-13T07:43:27.735728Z",
     "shell.execute_reply.started": "2025-03-13T07:43:27.697806Z",
     "shell.execute_reply": "2025-03-13T07:43:27.734838Z"
    }
   },
   "outputs": [],
   "execution_count": 5
  },
  {
   "cell_type": "markdown",
   "source": "# Downsample",
   "metadata": {}
  },
  {
   "cell_type": "code",
   "source": [
    "class_counts = data[\"target\"].value_counts()\n",
    "min_count = class_counts.min()\n",
    "\n",
    "df_downsampled = []\n",
    "\n",
    "for target_class, group_data in data.groupby(\"target\"):\n",
    "    group_downsampled = group_data.sample(n=min_count, random_state=42)\n",
    "    df_downsampled.append(group_downsampled)\n",
    "df_downsampled = pd.concat(df_downsampled).reset_index(drop=True)\n",
    "df_downsampled.to_csv(\"downsampled_data.csv\", index=False)"
   ],
   "metadata": {
    "trusted": true,
    "execution": {
     "iopub.status.busy": "2025-03-12T10:34:16.111729Z",
     "iopub.execute_input": "2025-03-12T10:34:16.112005Z",
     "iopub.status.idle": "2025-03-12T10:34:16.136019Z",
     "shell.execute_reply.started": "2025-03-12T10:34:16.111982Z",
     "shell.execute_reply": "2025-03-12T10:34:16.135204Z"
    }
   },
   "outputs": [],
   "execution_count": 58
  },
  {
   "cell_type": "code",
   "source": [
    "data = pd.read_csv(\"/kaggle/working/downsampled_data.csv\")"
   ],
   "metadata": {
    "trusted": true,
    "execution": {
     "iopub.status.busy": "2025-03-12T10:35:47.867098Z",
     "iopub.execute_input": "2025-03-12T10:35:47.867529Z",
     "iopub.status.idle": "2025-03-12T10:35:47.874289Z",
     "shell.execute_reply.started": "2025-03-12T10:35:47.867492Z",
     "shell.execute_reply": "2025-03-12T10:35:47.873551Z"
    }
   },
   "outputs": [],
   "execution_count": 60
  },
  {
   "cell_type": "code",
   "source": [
    "train, val = train_test_split(\n",
    "    data, test_size=0.15, random_state=42, stratify=data[\"target\"]\n",
    ")\n",
    "train[\"target\"] = train[\"target\"].map(index_classname)\n",
    "val[\"target\"] = val[\"target\"].map(index_classname)\n",
    "print(len(val), len(train))\n",
    "train.to_csv(\"down_train.csv\", index=False)\n",
    "val.to_csv(\"down_val.csv\", index=False)"
   ],
   "metadata": {
    "trusted": true,
    "execution": {
     "iopub.status.busy": "2025-03-12T10:39:26.094778Z",
     "iopub.execute_input": "2025-03-12T10:39:26.095092Z",
     "iopub.status.idle": "2025-03-12T10:39:26.108371Z",
     "shell.execute_reply.started": "2025-03-12T10:39:26.095067Z",
     "shell.execute_reply": "2025-03-12T10:39:26.107607Z"
    }
   },
   "outputs": [
    {
     "name": "stdout",
     "text": "95 535\n",
     "output_type": "stream"
    }
   ],
   "execution_count": 67
  },
  {
   "cell_type": "markdown",
   "source": "# MOST POPULAR COLORS",
   "metadata": {}
  },
  {
   "cell_type": "code",
   "source": [
    "train, val = train_test_split(\n",
    "    data, test_size=0.06, random_state=42, stratify=data[\"target\"]\n",
    ")\n",
    "val[\"target\"] = val[\"target\"].map(index_classname)\n",
    "norm = [\n",
    "    \"chernyi\",\n",
    "    \"belyi\",\n",
    "    \"korichnevyi\",\n",
    "    \"raznocvetnyi\",\n",
    "    \"bezhevyi\",\n",
    "    \"sinii\",\n",
    "    \"rozovyi\",\n",
    "    \"seryi\",\n",
    "    \"zelenyi\",\n",
    "]"
   ],
   "metadata": {
    "trusted": true
   },
   "outputs": [],
   "execution_count": 88
  },
  {
   "cell_type": "code",
   "source": [
    "data_somecolors = train[train[\"target\"].isin(norm)]\n",
    "data_somecolors[\"target\"] = data_somecolors[\"target\"].map(index_classname)\n",
    "print(len(train), len(data_somecolors))"
   ],
   "metadata": {
    "trusted": true,
    "execution": {
     "iopub.status.busy": "2025-03-12T10:01:59.569750Z",
     "iopub.execute_input": "2025-03-12T10:01:59.570049Z",
     "iopub.status.idle": "2025-03-12T10:01:59.580527Z",
     "shell.execute_reply.started": "2025-03-12T10:01:59.570024Z",
     "shell.execute_reply": "2025-03-12T10:01:59.579677Z"
    }
   },
   "outputs": [
    {
     "name": "stdout",
     "text": "31304 27608\n",
     "output_type": "stream"
    },
    {
     "name": "stderr",
     "text": "<ipython-input-44-fc626346bd17>:2: SettingWithCopyWarning: \nA value is trying to be set on a copy of a slice from a DataFrame.\nTry using .loc[row_indexer,col_indexer] = value instead\n\nSee the caveats in the documentation: https://pandas.pydata.org/pandas-docs/stable/user_guide/indexing.html#returning-a-view-versus-a-copy\n  data_somecolors['target'] = data_somecolors['target'].map(index_classname)\n",
     "output_type": "stream"
    }
   ],
   "execution_count": 44
  },
  {
   "cell_type": "code",
   "source": [
    "train, test = train_test_split(\n",
    "    data_somecolors, test_size=0.18, random_state=42, stratify=data_somecolors[\"target\"]\n",
    ")\n",
    "\n",
    "print(len(train), len(test), len(val))\n",
    "train.to_csv(\"train_somecolors.csv\", index=False)\n",
    "test.to_csv(\"test_somecolors.csv\", index=False)\n",
    "val.to_csv(\"val_somecolors.csv\", index=False)"
   ],
   "metadata": {
    "trusted": true,
    "execution": {
     "iopub.status.busy": "2025-03-12T10:02:02.315990Z",
     "iopub.execute_input": "2025-03-12T10:02:02.316304Z",
     "iopub.status.idle": "2025-03-12T10:02:02.375241Z",
     "shell.execute_reply.started": "2025-03-12T10:02:02.316276Z",
     "shell.execute_reply": "2025-03-12T10:02:02.374278Z"
    }
   },
   "outputs": [
    {
     "name": "stdout",
     "text": "22638 4970 1999\n",
     "output_type": "stream"
    }
   ],
   "execution_count": 45
  },
  {
   "cell_type": "markdown",
   "source": "# Dataset",
   "metadata": {}
  },
  {
   "cell_type": "code",
   "source": [
    "def train_transforms(probs=0.5):\n",
    "    return A.Compose(\n",
    "        [\n",
    "            A.Resize(256, 256),\n",
    "            A.OneOf(\n",
    "                [\n",
    "                    A.HorizontalFlip(p=1),\n",
    "                    A.VerticalFlip(p=1),\n",
    "                ],\n",
    "                p=probs,\n",
    "            ),\n",
    "            A.RandomRotate90(p=0.5),\n",
    "            A.ShiftScaleRotate(\n",
    "                shift_limit=0.0625, scale_limit=0.1, rotate_limit=15, p=0.5\n",
    "            ),\n",
    "            A.RandomGamma(gamma_limit=(40, 100), p=0.5),\n",
    "            A.RandomBrightnessContrast(\n",
    "                brightness_limit=(0, 0.3),\n",
    "                contrast_limit=(0, 0.3),\n",
    "                brightness_by_max=True,\n",
    "                ensure_safe_range=False,\n",
    "                p=0.5,\n",
    "            ),\n",
    "            # A.GaussNoise(var_limit=(10.0, 50.0), p=0.3),\n",
    "            A.Normalize(),\n",
    "            ToTensorV2(),\n",
    "        ]\n",
    "    )\n",
    "\n",
    "\n",
    "def val_transform():\n",
    "    return A.Compose([A.Resize(256, 256), A.Normalize(), ToTensorV2()])\n",
    "\n",
    "\n",
    "class TorchDataset(Dataset):\n",
    "    def __init__(self, csv_file, img_dir, mode=\"train\"):\n",
    "        self.images = []\n",
    "        self.img_dir = img_dir\n",
    "        self.mode = mode\n",
    "        self.__read_csv(csv_file)\n",
    "        self.__init_transforms(aug_prob=0.5)\n",
    "\n",
    "    def __read_csv(self, csv_file):\n",
    "        with open(csv_file, \"r\") as file:\n",
    "            for i, line in enumerate(file.readlines()):\n",
    "                if i == 0:\n",
    "                    continue\n",
    "                image, _, label = line.strip().split(\",\")\n",
    "                self.images.append([image, int(label)])\n",
    "\n",
    "    def __init_transforms(self, aug_prob):\n",
    "        self.transforms = (\n",
    "            train_transforms(aug_prob) if self.mode == \"train\" else val_transform()\n",
    "        )\n",
    "\n",
    "    def __len__(self):\n",
    "        return len(self.images)\n",
    "\n",
    "    def load_sample(self, idx):\n",
    "        image_path, label = self.images[idx]\n",
    "\n",
    "        if not os.path.exists(os.path.join(self.img_dir, image_path + \".jpg\")):\n",
    "            raise ValueError(f\"{os.path.join(self.img_dir, image_path)} doesn't exist\")\n",
    "        image = cv2.imread(os.path.join(self.img_dir, image_path + \".jpg\"))\n",
    "        return image, label\n",
    "\n",
    "    def __getitem__(self, idx):\n",
    "        image, label = self.load_sample(idx)\n",
    "        if self.transforms is not None:\n",
    "            image = self.transforms(image=image)[\"image\"]\n",
    "        return image, torch.as_tensor(label)\n",
    "\n",
    "\n",
    "def make_loader(csv_file, img_dir, mode=\"train\"):\n",
    "    dataset = TorchDataset(csv_file, img_dir, mode=mode)\n",
    "    dataloader = DataLoader(\n",
    "        dataset, shuffle=(mode == \"train\"), batch_size=128, num_workers=8\n",
    "    )\n",
    "    return dataloader, dataset"
   ],
   "metadata": {
    "trusted": true,
    "execution": {
     "iopub.status.busy": "2025-03-13T14:26:12.676848Z",
     "iopub.execute_input": "2025-03-13T14:26:12.677242Z",
     "iopub.status.idle": "2025-03-13T14:26:12.688906Z",
     "shell.execute_reply.started": "2025-03-13T14:26:12.677213Z",
     "shell.execute_reply": "2025-03-13T14:26:12.688046Z"
    }
   },
   "outputs": [],
   "execution_count": 48
  },
  {
   "cell_type": "code",
   "source": [
    "train_loader, train_dataset = make_loader(\n",
    "    \"/kaggle/working/train_sp.csv\",\n",
    "    \"/kaggle/input/purpel/dataset_colors/train_data\",\n",
    "    mode=\"train\",\n",
    ")\n",
    "# test_loader, test_dataset = make_loader(\n",
    "#     '/kaggle/working/test_somecolors.csv',\n",
    "#     '/kaggle/input/purpel/dataset_colors/train_data',\n",
    "#     mode='test',\n",
    "#     )\n",
    "val_loader, val_dataset = make_loader(\n",
    "    \"/kaggle/working/val_sp.csv\",\n",
    "    \"/kaggle/input/purpel/dataset_colors/train_data\",\n",
    "    mode=\"val\",\n",
    ")"
   ],
   "metadata": {
    "trusted": true,
    "execution": {
     "iopub.status.busy": "2025-03-13T14:26:14.733880Z",
     "iopub.execute_input": "2025-03-13T14:26:14.734272Z",
     "iopub.status.idle": "2025-03-13T14:26:14.784784Z",
     "shell.execute_reply.started": "2025-03-13T14:26:14.734248Z",
     "shell.execute_reply": "2025-03-13T14:26:14.784001Z"
    }
   },
   "outputs": [
    {
     "name": "stderr",
     "text": "<ipython-input-48-7174f4b5e07a>:17: UserWarning: Argument 'ensure_safe_range' is not valid and will be ignored.\n  A.RandomBrightnessContrast(brightness_limit=(0, 0.3), contrast_limit=(0, 0.3), brightness_by_max=True, ensure_safe_range=False, p=0.5),\n",
     "output_type": "stream"
    }
   ],
   "execution_count": 49
  },
  {
   "cell_type": "markdown",
   "source": "# MODELS",
   "metadata": {}
  },
  {
   "cell_type": "code",
   "source": [
    "class TorchModel(nn.Module):\n",
    "    def __init__(self, encoder, output):\n",
    "        super(TorchModel, self).__init__()\n",
    "        self.model = timm.create_model(encoder, pretrained=True, num_classes=output)\n",
    "\n",
    "        for param in self.model.patch_embed.parameters():\n",
    "            param.requires_grad = False\n",
    "        for param in self.model.blocks[:20].parameters():\n",
    "            param.requires_grad = False\n",
    "        # # for param in self.model.stages[:3].parameters():\n",
    "        # #     param.requires_grad = False\n",
    "        # # for param in self.model.stages[3][0].parameters():\n",
    "        # #     param.requires_grad = False\n",
    "\n",
    "    def forward(self, x):\n",
    "        return self.model(x)"
   ],
   "metadata": {
    "trusted": true,
    "execution": {
     "iopub.status.busy": "2025-03-13T14:26:16.427436Z",
     "iopub.execute_input": "2025-03-13T14:26:16.427721Z",
     "iopub.status.idle": "2025-03-13T14:26:16.432653Z",
     "shell.execute_reply.started": "2025-03-13T14:26:16.427699Z",
     "shell.execute_reply": "2025-03-13T14:26:16.431722Z"
    }
   },
   "outputs": [],
   "execution_count": 50
  },
  {
   "cell_type": "code",
   "source": [
    "import torch\n",
    "import torch.nn as nn\n",
    "import torch.nn.functional as F\n",
    "\n",
    "\n",
    "class ConvNet(nn.Module):\n",
    "    def __init__(self, num_classes):\n",
    "        super(ConvNet, self).__init__()\n",
    "        self.conv1 = nn.Conv2d(\n",
    "            in_channels=3, out_channels=32, kernel_size=3, stride=1, padding=1\n",
    "        )\n",
    "        self.bn1 = nn.BatchNorm2d(32)\n",
    "        self.pool = nn.MaxPool2d(kernel_size=2, stride=2)\n",
    "        self.conv2 = nn.Conv2d(32, 64, kernel_size=3, stride=1, padding=1)\n",
    "        self.bn2 = nn.BatchNorm2d(64)\n",
    "        self.conv3 = nn.Conv2d(64, 128, kernel_size=3, stride=1, padding=1)\n",
    "        self.bn3 = nn.BatchNorm2d(128)\n",
    "        self.fc1 = nn.Linear(128 * 28 * 28, 256)\n",
    "        self.fc2 = nn.Linear(256, num_classes)\n",
    "\n",
    "    def forward(self, x):\n",
    "        x = self.pool(F.relu(self.bn1(self.conv1(x))))\n",
    "        x = self.pool(F.relu(self.bn2(self.conv2(x))))\n",
    "        x = self.pool(F.relu(self.bn3(self.conv3(x))))\n",
    "        x = x.view(x.size(0), -1)\n",
    "        x = F.relu(self.fc1(x))\n",
    "        x = self.fc2(x)\n",
    "        return x"
   ],
   "metadata": {
    "trusted": true,
    "execution": {
     "iopub.status.busy": "2025-03-12T12:20:09.860751Z",
     "iopub.execute_input": "2025-03-12T12:20:09.861040Z",
     "iopub.status.idle": "2025-03-12T12:20:09.868209Z",
     "shell.execute_reply.started": "2025-03-12T12:20:09.861018Z",
     "shell.execute_reply": "2025-03-12T12:20:09.867417Z"
    }
   },
   "outputs": [],
   "execution_count": 7
  },
  {
   "cell_type": "code",
   "source": [
    "class TinyConvNet(nn.Module):\n",
    "    def __init__(self, num_classes):\n",
    "        super(TinyConvNet, self).__init__()\n",
    "        self.conv1 = nn.Conv2d(in_channels=3, out_channels=16, kernel_size=3, padding=1)\n",
    "        self.bn1 = nn.BatchNorm2d(16)\n",
    "        self.pool = nn.MaxPool2d(kernel_size=2, stride=2)\n",
    "        self.conv2 = nn.Conv2d(16, 32, kernel_size=3, padding=1)\n",
    "        self.bn2 = nn.BatchNorm2d(32)\n",
    "\n",
    "        self.conv3 = nn.Conv2d(32, 64, kernel_size=3, padding=1)\n",
    "        self.bn3 = nn.BatchNorm2d(64)\n",
    "        self.fc = nn.Linear(64 * 28 * 28, num_classes)\n",
    "\n",
    "    def forward(self, x):\n",
    "        x = self.pool(F.relu(self.bn1(self.conv1(x))))\n",
    "        x = self.pool(F.relu(self.bn2(self.conv2(x))))\n",
    "        x = self.pool(F.relu(self.bn3(self.conv3(x))))\n",
    "        x = x.view(x.size(0), -1)\n",
    "        x = self.fc(x)\n",
    "        return x"
   ],
   "metadata": {
    "trusted": true,
    "execution": {
     "iopub.status.busy": "2025-03-12T12:20:14.012853Z",
     "iopub.execute_input": "2025-03-12T12:20:14.013187Z",
     "iopub.status.idle": "2025-03-12T12:20:14.019273Z",
     "shell.execute_reply.started": "2025-03-12T12:20:14.013163Z",
     "shell.execute_reply": "2025-03-12T12:20:14.018582Z"
    }
   },
   "outputs": [],
   "execution_count": 8
  },
  {
   "cell_type": "code",
   "source": [
    "# model = TorchModel(\"resnet34\", 18)\n",
    "model = TorchModel(\"vit_mediumd_patch16_reg4_gap_256.sbb2_e200_in12k_ft_in1k\", 18)\n",
    "\n",
    "# Общее количество параметров:\n",
    "total_params = sum(p.numel() for p in model.parameters())\n",
    "\n",
    "# Количество замороженных (необучаемых) параметров:\n",
    "frozen_params = sum(p.numel() for p in model.parameters() if not p.requires_grad)\n",
    "\n",
    "# Количество обучаемых параметров:\n",
    "trainable_params = total_params - frozen_params\n",
    "\n",
    "print(\"Всего параметров:\", total_params)\n",
    "print(\"Замороженных параметров:\", frozen_params)\n",
    "print(\"Обучаемых параметров:\", trainable_params)"
   ],
   "metadata": {
    "trusted": true,
    "execution": {
     "iopub.status.busy": "2025-03-13T14:26:24.394944Z",
     "iopub.execute_input": "2025-03-13T14:26:24.395268Z",
     "iopub.status.idle": "2025-03-13T14:26:30.868565Z",
     "shell.execute_reply.started": "2025-03-13T14:26:24.395243Z",
     "shell.execute_reply": "2025-03-13T14:26:30.867902Z"
    }
   },
   "outputs": [
    {
     "output_type": "display_data",
     "data": {
      "text/plain": "model.safetensors:   0%|          | 0.00/256M [00:00<?, ?B/s]",
      "application/vnd.jupyter.widget-view+json": {
       "version_major": 2,
       "version_minor": 0,
       "model_id": "af1fd10b667e415089f8672aa9ec90f9"
      }
     },
     "metadata": {}
    },
    {
     "name": "stdout",
     "text": "Всего параметров: 63605266\nЗамороженных параметров: 63461888\nОбучаемых параметров: 143378\n",
     "output_type": "stream"
    }
   ],
   "execution_count": 52
  },
  {
   "cell_type": "markdown",
   "source": "## Train Loop\n",
   "metadata": {}
  },
  {
   "cell_type": "code",
   "source": [
    "def train_model(train_loader, val_loader, num_epochs=20):\n",
    "    encoder = \"vit_mediumd_patch16_reg4_gap_256.sbb2_e200_in12k_ft_in1k\"\n",
    "    save_path = os.path.join(\"./exp\", encoder + \"coef_loss_full\")\n",
    "    os.makedirs(save_path, exist_ok=True)\n",
    "    labels = [\n",
    "        \"belyi\",\n",
    "        \"bezhevyi\",\n",
    "        \"biryuzovyi\",\n",
    "        \"bordovyi\",\n",
    "        \"chernyi\",\n",
    "        \"fioletovyi\",\n",
    "        \"goluboi\",\n",
    "        \"korichnevyi\",\n",
    "        \"krasnyi\",\n",
    "        \"oranzhevyi\",\n",
    "        \"raznocvetnyi\",\n",
    "        \"rozovyi\",\n",
    "        \"serebristyi\",\n",
    "        \"seryi\",\n",
    "        \"sinii\",\n",
    "        \"zelenyi\",\n",
    "        \"zheltyi\",\n",
    "        \"zolotoi\",\n",
    "    ]\n",
    "    index_classname_similar = {\n",
    "        4: [4, 13, 7, 3],\n",
    "        0: [0, 1, 12, 11],\n",
    "        7: [7, 4, 9, 17],\n",
    "        10: [10],\n",
    "        1: [1, 0, 17, 12],\n",
    "        14: [14, 6, 5, 2],\n",
    "        11: [11, 8, 0, 5],\n",
    "        13: [13, 4, 12, 6],\n",
    "        15: [15, 2, 16],\n",
    "        8: [8, 3, 9, 11],\n",
    "        6: [6, 14, 12, 2],\n",
    "        5: [5, 14, 11, 3],\n",
    "        3: [3, 8, 4, 5],\n",
    "        16: [16, 9, 17, 15],\n",
    "        9: [9, 8, 16, 7],\n",
    "        12: [12, 13, 0, 6],\n",
    "        17: [17, 16, 1, 7],\n",
    "        2: [2, 14, 6, 15],\n",
    "    }\n",
    "    similar_coeff = 0.05\n",
    "    device = torch.device(\"cuda\" if torch.cuda.is_available() else \"cpu\")\n",
    "    model = TorchModel(encoder, 18)\n",
    "    if torch.cuda.device_count() > 1:\n",
    "        print(\"Используем\", torch.cuda.device_count(), \"GPU\")\n",
    "        model = nn.DataParallel(model)\n",
    "    model.to(device)\n",
    "    # weights_tensor = torch.tensor(weights.values, dtype=torch.float32).to(device)\n",
    "    criterion = nn.CrossEntropyLoss(reduction=\"none\")\n",
    "\n",
    "    train_metrics = MetricCollection(\n",
    "        {\n",
    "            \"multiclassAccuracy\": ClasswiseWrapper(\n",
    "                MulticlassAccuracy(num_classes=18, average=None), labels=labels\n",
    "            ),\n",
    "            \"multiclassPrecision\": ClasswiseWrapper(\n",
    "                MulticlassPrecision(num_classes=18, average=None), labels=labels\n",
    "            ),\n",
    "            \"multiclassRecall\": ClasswiseWrapper(\n",
    "                MulticlassRecall(num_classes=18, average=None), labels=labels\n",
    "            ),\n",
    "            \"multiclassF1score\": ClasswiseWrapper(\n",
    "                MulticlassF1Score(num_classes=18, average=None), labels=labels\n",
    "            ),\n",
    "            \"multiclassF1scoreMacro\": MulticlassF1Score(\n",
    "                num_classes=18, average=\"macro\"\n",
    "            ),\n",
    "            \"multiclassPrecision_macro\": MulticlassPrecision(\n",
    "                num_classes=18, average=\"macro\"\n",
    "            ),\n",
    "            \"multiclassRecall_macro\": MulticlassRecall(num_classes=18, average=\"macro\"),\n",
    "        }\n",
    "    ).to(device)\n",
    "\n",
    "    val_metrics = MetricCollection(\n",
    "        {\n",
    "            \"multiclassAccuracy\": ClasswiseWrapper(\n",
    "                MulticlassAccuracy(num_classes=18, average=None), labels=labels\n",
    "            ),\n",
    "            \"multiclassPrecision\": ClasswiseWrapper(\n",
    "                MulticlassPrecision(num_classes=18, average=None), labels=labels\n",
    "            ),\n",
    "            \"multiclassRecall\": ClasswiseWrapper(\n",
    "                MulticlassRecall(num_classes=18, average=None), labels=labels\n",
    "            ),\n",
    "            \"multiclassF1score\": ClasswiseWrapper(\n",
    "                MulticlassF1Score(num_classes=18, average=None), labels=labels\n",
    "            ),\n",
    "            \"multiclassF1scoreMacro\": MulticlassF1Score(\n",
    "                num_classes=18, average=\"macro\"\n",
    "            ),\n",
    "            \"multiclassPrecision_macro\": MulticlassPrecision(\n",
    "                num_classes=18, average=\"macro\"\n",
    "            ),\n",
    "            \"multiclassRecall_macro\": MulticlassRecall(num_classes=18, average=\"macro\"),\n",
    "            \"multiclassAccuracy_macro\": MulticlassAccuracy(\n",
    "                num_classes=18, average=\"macro\"\n",
    "            ),\n",
    "        }\n",
    "    ).to(device)\n",
    "\n",
    "    optimizer = optim.Adam(\n",
    "        filter(lambda p: p.requires_grad, model.parameters()),\n",
    "        lr=0.0002,\n",
    "        weight_decay=0.0001,\n",
    "    )  # бубугага\n",
    "\n",
    "    num_training_steps = math.ceil(len(train_loader) / 1)  #  2\n",
    "    total_steps = num_training_steps * num_epochs\n",
    "    scheduler = get_cosine_schedule_with_warmup(\n",
    "        optimizer, num_warmup_steps=0, num_training_steps=total_steps\n",
    "    )\n",
    "\n",
    "    train_loss_history = []\n",
    "    val_loss_history = []\n",
    "    train_macroF1_history = []\n",
    "    val_macroF1_history = []\n",
    "    train_macroPrecision_history = []\n",
    "    val_macroPrecision_history = []\n",
    "    train_macroRecall_history = []\n",
    "    val_macroRecall_history = []\n",
    "\n",
    "    best_pr_macro = -float(\"inf\")\n",
    "    plt.ion()\n",
    "\n",
    "    for epoch in range(num_epochs):\n",
    "        model.train()\n",
    "        train_metrics.reset()\n",
    "        epoch_train_loss = 0.0\n",
    "        train_samples = 0\n",
    "\n",
    "        pbar = tqdm(\n",
    "            train_loader, desc=f\"Train Epoch {epoch+1}/{num_epochs}\", leave=False\n",
    "        )\n",
    "        for batch in pbar:\n",
    "            x, y = batch\n",
    "            x, y = x.to(device), y.to(device)\n",
    "            optimizer.zero_grad()\n",
    "\n",
    "            outputs = model(x)\n",
    "            losses = criterion(outputs, y)\n",
    "            preds = outputs.argmax(dim=1)\n",
    "\n",
    "            multipliers = torch.ones_like(losses, dtype=torch.float32)\n",
    "            for i in range(len(y)):\n",
    "                pred = preds[i].item()\n",
    "                target = y[i].item()\n",
    "                if target in index_classname_similar.get(pred, []):\n",
    "                    multipliers[i] = similar_coeff\n",
    "\n",
    "            loss = (losses * multipliers.to(losses.device)).mean()\n",
    "\n",
    "            loss.backward()\n",
    "            optimizer.step()\n",
    "            scheduler.step()\n",
    "\n",
    "            epoch_train_loss += loss.item() * x.size(0)\n",
    "            train_samples += x.size(0)\n",
    "\n",
    "            train_metrics.update(preds, y)\n",
    "\n",
    "        avg_train_loss = epoch_train_loss / train_samples\n",
    "        train_values = train_metrics.compute()\n",
    "\n",
    "        clear_output(wait=True)\n",
    "        print(f\"Epoch {epoch+1}/{num_epochs} - Train Loss: {avg_train_loss:.4f}\")\n",
    "        for metric_name, value in train_values.items():\n",
    "            print(f\"Train {metric_name}: {value}\")\n",
    "\n",
    "        model.eval()\n",
    "        val_metrics.reset()\n",
    "        epoch_val_loss = 0.0\n",
    "        val_samples = 0\n",
    "\n",
    "        with torch.no_grad():\n",
    "            for batch in val_loader:\n",
    "                x, y = batch\n",
    "                x, y = x.to(device), y.to(device)\n",
    "                outputs = model(x)\n",
    "                loss = criterion(outputs, y).mean()\n",
    "                epoch_val_loss += loss.item() * x.size(0)\n",
    "                val_samples += x.size(0)\n",
    "\n",
    "                preds = outputs.argmax(dim=1)\n",
    "                val_metrics.update(preds, y)\n",
    "\n",
    "        avg_val_loss = epoch_val_loss / val_samples\n",
    "        val_values = val_metrics.compute()\n",
    "\n",
    "        print(f\"Epoch {epoch+1}/{num_epochs} - Val Loss: {avg_val_loss:.4f}\")\n",
    "        for metric_name, value in val_values.items():\n",
    "            print(f\"Val {metric_name}: {value}\")\n",
    "\n",
    "        train_loss_history.append(avg_train_loss)\n",
    "        val_loss_history.append(avg_val_loss)\n",
    "\n",
    "        train_macroF1 = train_values.get(\"multiclassF1scoreMacro\")\n",
    "        val_macroF1 = val_values.get(\"multiclassF1scoreMacro\")\n",
    "        train_macroPrecision = train_values.get(\"multiclassPrecision_macro\")\n",
    "        val_macroPrecision = val_values.get(\"multiclassPrecision_macro\")\n",
    "        train_macroRecall = train_values.get(\"multiclassRecall_macro\")\n",
    "        val_macroRecall = val_values.get(\"multiclassRecall_macro\")\n",
    "\n",
    "        train_macroF1 = (\n",
    "            train_macroF1.item()\n",
    "            if isinstance(train_macroF1, torch.Tensor)\n",
    "            else train_macroF1\n",
    "        )\n",
    "        val_macroF1 = (\n",
    "            val_macroF1.item() if isinstance(val_macroF1, torch.Tensor) else val_macroF1\n",
    "        )\n",
    "        train_macroPrecision = (\n",
    "            train_macroPrecision.item()\n",
    "            if isinstance(train_macroPrecision, torch.Tensor)\n",
    "            else train_macroPrecision\n",
    "        )\n",
    "        val_macroPrecision = (\n",
    "            val_macroPrecision.item()\n",
    "            if isinstance(val_macroPrecision, torch.Tensor)\n",
    "            else val_macroPrecision\n",
    "        )\n",
    "        train_macroRecall = (\n",
    "            train_macroRecall.item()\n",
    "            if isinstance(train_macroRecall, torch.Tensor)\n",
    "            else train_macroRecall\n",
    "        )\n",
    "        val_macroRecall = (\n",
    "            val_macroRecall.item()\n",
    "            if isinstance(val_macroRecall, torch.Tensor)\n",
    "            else val_macroRecall\n",
    "        )\n",
    "\n",
    "        if val_macroF1 > best_pr_macro:\n",
    "            best_pr_macro = val_macroF1\n",
    "            torch.save(\n",
    "                model.state_dict(),\n",
    "                os.path.join(\n",
    "                    save_path, f\"bestmodel_macrof1:{val_macroF1}_epoch:{epoch+1}.pth\"\n",
    "                ),\n",
    "            )\n",
    "\n",
    "        train_macroF1_history.append(train_macroF1)\n",
    "        val_macroF1_history.append(val_macroF1)\n",
    "        train_macroPrecision_history.append(train_macroPrecision)\n",
    "        val_macroPrecision_history.append(val_macroPrecision)\n",
    "        train_macroRecall_history.append(train_macroRecall)\n",
    "        val_macroRecall_history.append(val_macroRecall)\n",
    "\n",
    "        plt.figure(1)\n",
    "        plt.gcf().set_size_inches(12, 10)\n",
    "        plt.clf()\n",
    "\n",
    "        plt.subplot(3, 1, 1)\n",
    "        plt.plot(train_loss_history, label=\"Train Loss\", marker=\"o\")\n",
    "        plt.plot(val_loss_history, label=\"Val Loss\", marker=\"o\")\n",
    "        plt.legend()\n",
    "        plt.title(\"Loss per Epoch\")\n",
    "\n",
    "        plt.subplot(3, 1, 2)\n",
    "        plt.plot(train_macroF1_history, label=\"Train Macro F1\", marker=\"o\")\n",
    "        plt.plot(val_macroF1_history, label=\"Val Macro F1\", marker=\"o\")\n",
    "        plt.legend()\n",
    "        plt.title(\"Macro F1 Score per Epoch\")\n",
    "\n",
    "        plt.subplot(3, 1, 3)\n",
    "        plt.plot(\n",
    "            train_macroPrecision_history, label=\"Train Macro Precision\", marker=\"o\"\n",
    "        )\n",
    "        plt.plot(val_macroPrecision_history, label=\"Val Macro Precision\", marker=\"o\")\n",
    "        plt.plot(train_macroRecall_history, label=\"Train Macro Recall\", marker=\"o\")\n",
    "        plt.plot(val_macroRecall_history, label=\"Val Macro Recall\", marker=\"o\")\n",
    "        plt.legend()\n",
    "        plt.title(\"Macro Precision & Recall per Epoch\")\n",
    "\n",
    "        plt.pause(0.01)\n",
    "        plt.draw()\n",
    "\n",
    "        # torch.save(model.state_dict(), f\"checkpoint_epoch_{epoch+1}.pth\")\n",
    "\n",
    "    torch.save(model.state_dict(), os.path.join(save_path, \"model_final.pth\"))\n",
    "    plt.savefig(os.path.join(save_path, \"loss.png\"))\n",
    "    plt.ioff()\n",
    "    plt.show()\n",
    "\n",
    "\n",
    "train_model(train_loader=train_loader, val_loader=val_loader)"
   ],
   "metadata": {
    "trusted": true,
    "execution": {
     "iopub.status.busy": "2025-03-13T14:26:44.793593Z",
     "iopub.execute_input": "2025-03-13T14:26:44.793892Z",
     "iopub.status.idle": "2025-03-13T17:23:19.043283Z",
     "shell.execute_reply.started": "2025-03-13T14:26:44.793868Z",
     "shell.execute_reply": "2025-03-13T17:23:19.042254Z"
    }
   },
   "outputs": [
    {
     "name": "stdout",
     "text": "Epoch 20/20 - Train Loss: 0.7603\nTrain multiclassaccuracy_belyi: 0.7381086945533752\nTrain multiclassaccuracy_bezhevyi: 0.45006483793258667\nTrain multiclassaccuracy_biryuzovyi: 0.10000000149011612\nTrain multiclassaccuracy_bordovyi: 0.3735498785972595\nTrain multiclassaccuracy_chernyi: 0.8460959792137146\nTrain multiclassaccuracy_fioletovyi: 0.47999998927116394\nTrain multiclassaccuracy_goluboi: 0.3997175097465515\nTrain multiclassaccuracy_korichnevyi: 0.6074975728988647\nTrain multiclassaccuracy_krasnyi: 0.5946969985961914\nTrain multiclassaccuracy_oranzhevyi: 0.2857142984867096\nTrain multiclassaccuracy_raznocvetnyi: 0.5965617895126343\nTrain multiclassaccuracy_rozovyi: 0.597322940826416\nTrain multiclassaccuracy_serebristyi: 0.1147540956735611\nTrain multiclassaccuracy_seryi: 0.29891955852508545\nTrain multiclassaccuracy_sinii: 0.6500920653343201\nTrain multiclassaccuracy_zelenyi: 0.5720081329345703\nTrain multiclassaccuracy_zheltyi: 0.5597667694091797\nTrain multiclassaccuracy_zolotoi: 0.0\nTrain multiclassf1score_belyi: 0.7047850489616394\nTrain multiclassf1score_bezhevyi: 0.4553805887699127\nTrain multiclassf1score_biryuzovyi: 0.15789473056793213\nTrain multiclassf1score_bordovyi: 0.42649006843566895\nTrain multiclassf1score_chernyi: 0.7759917378425598\nTrain multiclassf1score_fioletovyi: 0.5574193596839905\nTrain multiclassf1score_goluboi: 0.46661171317100525\nTrain multiclassf1score_korichnevyi: 0.6042065024375916\nTrain multiclassf1score_krasnyi: 0.603073000907898\nTrain multiclassf1score_oranzhevyi: 0.37383177876472473\nTrain multiclassf1score_raznocvetnyi: 0.5856373310089111\nTrain multiclassf1score_rozovyi: 0.5951653122901917\nTrain multiclassf1score_serebristyi: 0.18025751411914825\nTrain multiclassf1score_seryi: 0.3584023118019104\nTrain multiclassf1score_sinii: 0.6567441821098328\nTrain multiclassf1score_zelenyi: 0.6133768558502197\nTrain multiclassf1score_zheltyi: 0.5889570713043213\nTrain multiclassf1score_zolotoi: 0.0\nTrain multiclassF1scoreMacro: 0.4835680425167084\nTrain multiclassprecision_belyi: 0.6743404269218445\nTrain multiclassprecision_bezhevyi: 0.4608233869075775\nTrain multiclassprecision_biryuzovyi: 0.375\nTrain multiclassprecision_bordovyi: 0.4969135820865631\nTrain multiclassprecision_chernyi: 0.7166156768798828\nTrain multiclassprecision_fioletovyi: 0.6646153926849365\nTrain multiclassprecision_goluboi: 0.5603960156440735\nTrain multiclassprecision_korichnevyi: 0.6009508967399597\nTrain multiclassprecision_krasnyi: 0.6116883158683777\nTrain multiclassprecision_oranzhevyi: 0.5405405163764954\nTrain multiclassprecision_raznocvetnyi: 0.5751057863235474\nTrain multiclassprecision_rozovyi: 0.5930232405662537\nTrain multiclassprecision_serebristyi: 0.41999998688697815\nTrain multiclassprecision_seryi: 0.4474393427371979\nTrain multiclassprecision_sinii: 0.6635338068008423\nTrain multiclassprecision_zelenyi: 0.6611957550048828\nTrain multiclassprecision_zheltyi: 0.6213592290878296\nTrain multiclassprecision_zolotoi: 0.0\nTrain multiclassPrecision_macro: 0.5379745364189148\nTrain multiclassrecall_belyi: 0.7381086945533752\nTrain multiclassrecall_bezhevyi: 0.45006483793258667\nTrain multiclassrecall_biryuzovyi: 0.10000000149011612\nTrain multiclassrecall_bordovyi: 0.3735498785972595\nTrain multiclassrecall_chernyi: 0.8460959792137146\nTrain multiclassrecall_fioletovyi: 0.47999998927116394\nTrain multiclassrecall_goluboi: 0.3997175097465515\nTrain multiclassrecall_korichnevyi: 0.6074975728988647\nTrain multiclassrecall_krasnyi: 0.5946969985961914\nTrain multiclassrecall_oranzhevyi: 0.2857142984867096\nTrain multiclassrecall_raznocvetnyi: 0.5965617895126343\nTrain multiclassrecall_rozovyi: 0.597322940826416\nTrain multiclassrecall_serebristyi: 0.1147540956735611\nTrain multiclassrecall_seryi: 0.29891955852508545\nTrain multiclassrecall_sinii: 0.6500920653343201\nTrain multiclassrecall_zelenyi: 0.5720081329345703\nTrain multiclassrecall_zheltyi: 0.5597667694091797\nTrain multiclassrecall_zolotoi: 0.0\nTrain multiclassRecall_macro: 0.4591594934463501\nEpoch 20/20 - Val Loss: 1.3068\nVal multiclassaccuracy_belyi: 0.6789727210998535\nVal multiclassaccuracy_bezhevyi: 0.40931373834609985\nVal multiclassaccuracy_biryuzovyi: 0.0\nVal multiclassaccuracy_bordovyi: 0.44736841320991516\nVal multiclassaccuracy_chernyi: 0.8559249639511108\nVal multiclassaccuracy_fioletovyi: 0.38749998807907104\nVal multiclassaccuracy_goluboi: 0.4480000138282776\nVal multiclassaccuracy_korichnevyi: 0.5970962047576904\nVal multiclassaccuracy_krasnyi: 0.6499999761581421\nVal multiclassaccuracy_oranzhevyi: 0.18367347121238708\nVal multiclassaccuracy_raznocvetnyi: 0.6024844646453857\nVal multiclassaccuracy_rozovyi: 0.5664557218551636\nVal multiclassaccuracy_serebristyi: 0.0625\nVal multiclassaccuracy_seryi: 0.22448979318141937\nVal multiclassaccuracy_sinii: 0.5677083134651184\nVal multiclassaccuracy_zelenyi: 0.5804597735404968\nVal multiclassaccuracy_zheltyi: 0.49180328845977783\nVal multiclassaccuracy_zolotoi: 0.0\nVal multiclassAccuracy_macro: 0.43076393008232117\nVal multiclassf1score_belyi: 0.6789727210998535\nVal multiclassf1score_bezhevyi: 0.4309677481651306\nVal multiclassf1score_biryuzovyi: 0.0\nVal multiclassf1score_bordovyi: 0.4722222089767456\nVal multiclassf1score_chernyi: 0.7603180408477783\nVal multiclassf1score_fioletovyi: 0.4661654233932495\nVal multiclassf1score_goluboi: 0.4977777898311615\nVal multiclassf1score_korichnevyi: 0.5792253613471985\nVal multiclassf1score_krasnyi: 0.6232876777648926\nVal multiclassf1score_oranzhevyi: 0.2571428716182709\nVal multiclassf1score_raznocvetnyi: 0.5837512612342834\nVal multiclassf1score_rozovyi: 0.5764895081520081\nVal multiclassf1score_serebristyi: 0.10526315867900848\nVal multiclassf1score_seryi: 0.2926829159259796\nVal multiclassf1score_sinii: 0.5751978754997253\nVal multiclassf1score_zelenyi: 0.6273291707038879\nVal multiclassf1score_zheltyi: 0.5309734344482422\nVal multiclassf1score_zolotoi: 0.0\nVal multiclassF1scoreMacro: 0.44765371084213257\nVal multiclassprecision_belyi: 0.6789727210998535\nVal multiclassprecision_bezhevyi: 0.4550408720970154\nVal multiclassprecision_biryuzovyi: 0.0\nVal multiclassprecision_bordovyi: 0.5\nVal multiclassprecision_chernyi: 0.6839237213134766\nVal multiclassprecision_fioletovyi: 0.5849056839942932\nVal multiclassprecision_goluboi: 0.5600000023841858\nVal multiclassprecision_korichnevyi: 0.5623931884765625\nVal multiclassprecision_krasnyi: 0.5986841917037964\nVal multiclassprecision_oranzhevyi: 0.4285714328289032\nVal multiclassprecision_raznocvetnyi: 0.5661478638648987\nVal multiclassprecision_rozovyi: 0.5868852734565735\nVal multiclassprecision_serebristyi: 0.3333333432674408\nVal multiclassprecision_seryi: 0.42038217186927795\nVal multiclassprecision_sinii: 0.5828877091407776\nVal multiclassprecision_zelenyi: 0.6824324131011963\nVal multiclassprecision_zheltyi: 0.5769230723381042\nVal multiclassprecision_zolotoi: 0.0\nVal multiclassPrecision_macro: 0.4889713227748871\nVal multiclassrecall_belyi: 0.6789727210998535\nVal multiclassrecall_bezhevyi: 0.40931373834609985\nVal multiclassrecall_biryuzovyi: 0.0\nVal multiclassrecall_bordovyi: 0.44736841320991516\nVal multiclassrecall_chernyi: 0.8559249639511108\nVal multiclassrecall_fioletovyi: 0.38749998807907104\nVal multiclassrecall_goluboi: 0.4480000138282776\nVal multiclassrecall_korichnevyi: 0.5970962047576904\nVal multiclassrecall_krasnyi: 0.6499999761581421\nVal multiclassrecall_oranzhevyi: 0.18367347121238708\nVal multiclassrecall_raznocvetnyi: 0.6024844646453857\nVal multiclassrecall_rozovyi: 0.5664557218551636\nVal multiclassrecall_serebristyi: 0.0625\nVal multiclassrecall_seryi: 0.22448979318141937\nVal multiclassrecall_sinii: 0.5677083134651184\nVal multiclassrecall_zelenyi: 0.5804597735404968\nVal multiclassrecall_zheltyi: 0.49180328845977783\nVal multiclassrecall_zolotoi: 0.0\nVal multiclassRecall_macro: 0.43076393008232117\n",
     "output_type": "stream"
    },
    {
     "output_type": "display_data",
     "data": {
      "text/plain": "<Figure size 1200x1000 with 3 Axes>",
      "image/png": "[encoded data removed]"
     },
     "metadata": {}
    },
    {
     "output_type": "display_data",
     "data": {
      "text/plain": "<Figure size 640x480 with 0 Axes>"
     },
     "metadata": {}
    }
   ],
   "execution_count": 53
  },
  {
   "cell_type": "code",
   "source": [
    "def test_model(test_loader, weight_path):\n",
    "    labels = [\n",
    "        \"belyi\",\n",
    "        \"bezhevyi\",\n",
    "        \"biryuzovyi\",\n",
    "        \"bordovyi\",\n",
    "        \"chernyi\",\n",
    "        \"fioletovyi\",\n",
    "        \"goluboi\",\n",
    "        \"korichnevyi\",\n",
    "        \"krasnyi\",\n",
    "        \"oranzhevyi\",\n",
    "        \"raznocvetnyi\",\n",
    "        \"rozovyi\",\n",
    "        \"serebristyi\",\n",
    "        \"seryi\",\n",
    "        \"sinii\",\n",
    "        \"zelenyi\",\n",
    "        \"zheltyi\",\n",
    "        \"zolotoi\",\n",
    "    ]\n",
    "\n",
    "    device = torch.device(\"cuda:7\" if torch.cuda.is_available() else \"cpu\")\n",
    "\n",
    "    # Создаем модель и загружаем веса\n",
    "    model = TorchModel(\"resnext26ts\", 18).to(device)\n",
    "    state_dict = torch.load(weight_path, map_location=device)\n",
    "    model.load_state_dict(state_dict, strict=True)\n",
    "\n",
    "    test_metrics = MetricCollection(\n",
    "        {\n",
    "            \"multiclassPrecision\": ClasswiseWrapper(\n",
    "                MulticlassPrecision(num_classes=18, average=None), labels=labels\n",
    "            ),\n",
    "            \"multiclassRecall\": ClasswiseWrapper(\n",
    "                MulticlassRecall(num_classes=18, average=None), labels=labels\n",
    "            ),\n",
    "            \"multiclassF1score\": ClasswiseWrapper(\n",
    "                MulticlassF1Score(num_classes=18, average=None), labels=labels\n",
    "            ),\n",
    "            \"multiclassAccuracy\": ClasswiseWrapper(\n",
    "                MulticlassAccuracy(num_classes=18, average=None), labels=labels\n",
    "            ),\n",
    "            \"multiclassPrecision_macro\": MulticlassPrecision(\n",
    "                num_classes=18, average=\"macro\"\n",
    "            ),\n",
    "            \"multiclassRecall_macro\": MulticlassRecall(num_classes=18, average=\"macro\"),\n",
    "            \"multiclassF1score_macro\": MulticlassF1Score(\n",
    "                num_classes=18, average=\"macro\"\n",
    "            ),\n",
    "            \"multiclassAccuracy_macro\": MulticlassAccuracy(\n",
    "                num_classes=18, average=\"macro\"\n",
    "            ),\n",
    "        }\n",
    "    ).to(device)\n",
    "    test_metrics.reset()\n",
    "\n",
    "    model.eval()\n",
    "    with torch.no_grad():\n",
    "        for batch in test_loader:\n",
    "            x, y = batch\n",
    "            x, y = x.to(device), y.to(device)\n",
    "            outputs = model(x)\n",
    "            preds = outputs.argmax(dim=1)\n",
    "            test_metrics.update(preds, y)\n",
    "\n",
    "    test_values = test_metrics.compute()\n",
    "\n",
    "    data = [(k, v.item()) for k, v in test_values.items()]\n",
    "\n",
    "    # Создаем DataFrame\n",
    "    df = pd.DataFrame(data, columns=[\"metric\", \"value\"])\n",
    "\n",
    "    name = weight_path.split(\"/\")[-2]\n",
    "    df.to_csv(os.path.join(\"./exp\", name, \"torch_metrics.csv\"), index=False)\n",
    "\n",
    "    print(\"Test Metrics:\")\n",
    "    for metric_name, value in test_values.items():\n",
    "        print(f\"{metric_name}: {value}\")\n",
    "    return\n",
    "\n",
    "\n",
    "test_model(\n",
    "    test_loader=test_loader,\n",
    "    weight_path=\"/storage_research/pavel.smirnov/Projects/probnik/purple/exp/resnext26tsmore augs/bestmodel.pth\",\n",
    ")"
   ],
   "metadata": {
    "trusted": true
   },
   "outputs": [],
   "execution_count": null
  },
  {
   "cell_type": "code",
   "source": "# Проверка доступности CUDA\nprint(f\"PyTorch CUDA доступен: {torch.cuda.is_available()}\")\nprint(f\"Версия CUDA: {torch.version.cuda}\")\n\n# Загрузка модели\nmodel_id = \"IDEA-Research/grounding-dino-tiny\"\n\ntry:\n    processor = AutoProcessor.from_pretrained(model_id)\n    model = AutoModelForZeroShotObjectDetection.from_pretrained(model_id).to(\"cuda\")\n    print(\"Модель успешно загружена на GPU!\")\nexcept Exception as e:\n    print(f\"Ошибка: {e}\")\n    print(\"Пытаюсь загрузить на CPU...\")\n    processor = AutoProcessor.from_pretrained(model_id)\n    model = AutoModelForZeroShotObjectDetection.from_pretrained(model_id).cpu()",
   "metadata": {
    "trusted": true
   },
   "outputs": [],
   "execution_count": null
  },
  {
   "cell_type": "code",
   "source": [
    "image = cv2.imread(\"/kaggle/input/purpel/dataset_colors/train_data/36472599540.jpg\")\n",
    "print(image.shape)\n",
    "# Check for cats and remote controls\n",
    "\n",
    "text_labels = [\"bag\", \"table\", \"chair\", \"clothes\"]\n",
    "\n",
    "inputs = processor(images=image, text=text_labels, return_tensors=\"pt\").to(\"cuda\")\n",
    "\n",
    "with torch.no_grad():\n",
    "\n",
    "    outputs = model(**inputs)\n",
    "\n",
    "results = processor.post_process_grounded_object_detection(\n",
    "    outputs,\n",
    "    inputs.input_ids,\n",
    "    box_threshold=0.4,\n",
    "    text_threshold=0.3,\n",
    "    target_sizes=[image.shape[::-1]],\n",
    ")\n",
    "\n",
    "# Retrieve the first image result\n",
    "\n",
    "result = results[0]"
   ],
   "metadata": {
    "trusted": true
   },
   "outputs": [],
   "execution_count": null
  },
  {
   "cell_type": "code",
   "source": [
    "image = cv2.imread(\"/kaggle/input/purpel/dataset_colors/train_data/36477335632.jpg\")\n",
    "image = cv2.cvtColor(image, cv2.COLOR_BGR2RGB)\n",
    "\n",
    "text_labels = [\"handbag\", \"table\", \"chair\", \"woman clothes\"]\n",
    "\n",
    "inputs = processor(images=image, text=text_labels, return_tensors=\"pt\").to(\"cuda\")\n",
    "\n",
    "with torch.no_grad():\n",
    "    outputs = model(**inputs)\n",
    "\n",
    "results = processor.post_process_grounded_object_detection(\n",
    "    outputs,\n",
    "    inputs.input_ids,\n",
    "    box_threshold=0.4,\n",
    "    text_threshold=0.3,\n",
    "    target_sizes=[(image.shape[0], image.shape[1])],\n",
    ")\n",
    "\n",
    "result = results[0]\n",
    "print(result[\"scores\"], result[\"boxes\"], result[\"labels\"])\n",
    "if len(result[\"boxes\"]) > 0:\n",
    "    image_with_boxes = image.copy()\n",
    "    confidence_threshold = 0.4\n",
    "    for idx, (box, score) in enumerate(zip(result[\"boxes\"], result[\"scores\"])):\n",
    "        if score < confidence_threshold:\n",
    "            continue\n",
    "        box = box.cpu().numpy()\n",
    "        xmin, ymin, xmax, ymax = map(int, box)\n",
    "        cv2.rectangle(\n",
    "            img=image_with_boxes,\n",
    "            pt1=(xmin, ymin),\n",
    "            pt2=(xmax, ymax),\n",
    "            color=(255, 0, 0),\n",
    "            thickness=2,\n",
    "        )\n",
    "\n",
    "    plt.figure(figsize=(12, 8))\n",
    "    plt.imshow(image_with_boxes)\n",
    "    plt.axis(\"off\")\n",
    "    plt.show()"
   ],
   "metadata": {
    "trusted": true
   },
   "outputs": [],
   "execution_count": null
  },
  {
   "cell_type": "code",
   "source": [
    "from PIL import Image\n",
    "import torchvision.transforms as T"
   ],
   "metadata": {
    "trusted": true,
    "execution": {
     "iopub.status.busy": "2025-03-09T21:02:51.335569Z",
     "iopub.execute_input": "2025-03-09T21:02:51.335930Z",
     "iopub.status.idle": "2025-03-09T21:02:51.339660Z",
     "shell.execute_reply.started": "2025-03-09T21:02:51.335905Z",
     "shell.execute_reply": "2025-03-09T21:02:51.338641Z"
    }
   },
   "outputs": [],
   "execution_count": null
  },
  {
   "cell_type": "code",
   "source": [
    "model = YOLOWorld(\"yolov8l-worldv2.pt\").to(\"cuda\")\n",
    "\n",
    "model.set_classes(\n",
    "    [\n",
    "        \"kids clothes(female)\" \"female clothes\",\n",
    "        \"woman clothes\",\n",
    "        # 'kids pants(female)',\n",
    "        # 'kids jacket(female)'\n",
    "        # 'girls outfits',\n",
    "        # 'female children clothing',\n",
    "        # 'young girls garments',\n",
    "        # 'tween girls fashion',\n",
    "        # 'girls wardrobe',\n",
    "        # 'girls attire',\n",
    "        # 'teen girls clothing',\n",
    "        # 'girls wear',\n",
    "        # 'kids pants (female)',\n",
    "        # 'kids clothes(female)',\n",
    "        # 'kids shirt (female)',\n",
    "        # # 'girls clothing line',\n",
    "        # 'girls fashionwear',\n",
    "        # 'girls daily wear',\n",
    "        # 'girls casual attire',\n",
    "        # 'girls formal garments',\n",
    "    ]\n",
    ")\n",
    "\n",
    "results = model.predict(\n",
    "    \"/kaggle/input/purpel/dataset_colors/train_data/29629862402.jpg\", device=\"cuda\"\n",
    ")\n",
    "\n",
    "results[0].show()"
   ],
   "metadata": {
    "trusted": true,
    "execution": {
     "iopub.status.busy": "2025-03-09T21:06:37.276333Z",
     "iopub.execute_input": "2025-03-09T21:06:37.276662Z",
     "iopub.status.idle": "2025-03-09T21:06:42.630484Z",
     "shell.execute_reply.started": "2025-03-09T21:06:37.276635Z",
     "shell.execute_reply": "2025-03-09T21:06:42.629037Z"
    }
   },
   "outputs": [],
   "execution_count": null
  },
  {
   "cell_type": "code",
   "source": [
    "Path(\"/kaggle/input/purpel/dataset_colors/test_data/19564221134.png\").stem"
   ],
   "metadata": {
    "trusted": true,
    "execution": {
     "iopub.status.busy": "2025-03-09T20:17:06.542637Z",
     "iopub.execute_input": "2025-03-09T20:17:06.542959Z",
     "iopub.status.idle": "2025-03-09T20:17:06.549588Z",
     "shell.execute_reply.started": "2025-03-09T20:17:06.542932Z",
     "shell.execute_reply": "2025-03-09T20:17:06.548556Z"
    }
   },
   "outputs": [],
   "execution_count": null
  },
  {
   "cell_type": "code",
   "source": [
    "model = YOLOWorld(\"yolov8l-worldv2.pt\").to(\"cuda\")\n",
    "DATA_DIR = \"/kaggle/input/purpel/dataset_colors/train_data\"\n",
    "DATA_CSV = pd.read_csv(\"/kaggle/input/purpel/dataset_colors/train_data.csv\")\n",
    "categories = {\n",
    "    \"столы\": [\"table\"],\n",
    "    \"стулья\": [\"chair\"],\n",
    "    \"сумки\": [\"suitcase\", \"backpack\", \"bag\", \"handbag\"],\n",
    "    \"одежда для девочек\": [\n",
    "        \"kids clothes(female)\",\n",
    "        \"female clothes\",\n",
    "        \"woman clothes\",\n",
    "    ],\n",
    "}\n",
    "for filename in os.listdir(DATA_DIR):\n",
    "    img_path = os.path.join(DATA_DIR, filename)\n",
    "    img_name = Path(img_path).stem\n",
    "    category = DATA_CSV.loc[DATA_CSV[\"id\"] == int(img_name)][\"category\"].item()\n",
    "    model.set_classes(categories[category])\n",
    "    results = model.predict(img_path)\n",
    "\n",
    "    output_dir = Path(\"Cropped_images\")\n",
    "    output_dir.mkdir(exist_ok=True)\n",
    "\n",
    "    image = cv2.imread(img_path)\n",
    "    for i, coords in enumerate(results[0].boxes.data):\n",
    "        coords = coords.cpu().numpy()\n",
    "        x_min = int(coords[0])\n",
    "        y_min = int(coords[1])\n",
    "        x_max = int(coords[2])\n",
    "        y_max = int(coords[3])\n",
    "        cropped = image[y_min:y_max, x_min:x_max]\n",
    "        dir_save = output_dir / str(img_name)\n",
    "        dir_save.mkdir(exist_ok=True)\n",
    "        cv2.imwrite(\n",
    "            str(dir_save / f\"crop_{i}.jpg\"), cv2.cvtColor(cropped, cv2.COLOR_RGB2BGR)\n",
    "        )"
   ],
   "metadata": {
    "trusted": true,
    "execution": {
     "iopub.status.busy": "2025-03-09T21:23:20.868729Z",
     "iopub.execute_input": "2025-03-09T21:23:20.869068Z"
    }
   },
   "outputs": [],
   "execution_count": null
  },
  {
   "cell_type": "code",
   "source": "",
   "metadata": {
    "trusted": true
   },
   "outputs": [],
   "execution_count": null
  }
 ]
}