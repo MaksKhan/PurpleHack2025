{
 "cells": [
  {
   "cell_type": "code",
   "execution_count": 1,
   "metadata": {},
   "outputs": [],
   "source": [
    "# !pip install pandas\n",
    "# !pip install ollama\n",
    "# !pip install faiss-cpu\n",
    "# !pip install numpy\n",
    "# !pip install sentence_transformers\n",
    "# !pip install langchain\n",
    "# !pip install -U langchain-ollama"
   ]
  },
  {
   "cell_type": "code",
   "execution_count": 2,
   "metadata": {},
   "outputs": [],
   "source": [
    "# pip install langchain_community\n"
   ]
  },
  {
   "cell_type": "code",
   "execution_count": 3,
   "metadata": {},
   "outputs": [
    {
     "name": "stderr",
     "output_type": "stream",
     "text": [
      "/opt/anaconda3/envs/purple/lib/python3.12/site-packages/tqdm/auto.py:21: TqdmWarning: IProgress not found. Please update jupyter and ipywidgets. See https://ipywidgets.readthedocs.io/en/stable/user_install.html\n",
      "  from .autonotebook import tqdm as notebook_tqdm\n"
     ]
    }
   ],
   "source": [
    "import pandas as pd\n",
    "import ollama\n",
    "import faiss\n",
    "from sentence_transformers import SentenceTransformer\n",
    "import numpy as np\n",
    "import langchain\n",
    "from langchain.llms import Ollama\n",
    "from random import randint\n",
    "from tqdm import tqdm"
   ]
  },
  {
   "cell_type": "markdown",
   "metadata": {},
   "source": [
    "# Retriever"
   ]
  },
  {
   "cell_type": "code",
   "execution_count": 101,
   "metadata": {},
   "outputs": [],
   "source": [
    "model = ollama.Client()\n"
   ]
  },
  {
   "cell_type": "code",
   "execution_count": 102,
   "metadata": {},
   "outputs": [],
   "source": [
    "def generate_response(prompt):\n",
    "    response = model.generate(model='gemma2', prompt=prompt)\n",
    "    return response['response']"
   ]
  },
  {
   "cell_type": "code",
   "execution_count": 103,
   "metadata": {},
   "outputs": [
    {
     "name": "stdout",
     "output_type": "stream",
     "text": [
      "CPU times: user 2.6 ms, sys: 6.57 ms, total: 9.17 ms\n",
      "Wall time: 4.07 s\n"
     ]
    },
    {
     "data": {
      "text/plain": [
       "'1. Кошка аккуратно запрыгнула на подоконник, наблюдая за падающими листьями.\\n2. Звуки джазовой музыки доносились из открытой двери кафе.\\n3. Внезапный шторм захлестнул город, оставив после себя мокрые улицы и шум ветра. \\n\\n\\n'"
      ]
     },
     "execution_count": 103,
     "metadata": {},
     "output_type": "execute_result"
    }
   ],
   "source": [
    "%%time\n",
    "\n",
    "generate_response('Напиши 3 случайных предложения')"
   ]
  },
  {
   "cell_type": "markdown",
   "metadata": {},
   "source": [
    "# Generate categories from user's query"
   ]
  },
  {
   "cell_type": "markdown",
   "metadata": {},
   "source": [
    "## Dialogue"
   ]
  },
  {
   "cell_type": "code",
   "execution_count": 9,
   "metadata": {},
   "outputs": [],
   "source": [
    "from langchain.chains import LLMChain\n",
    "from langchain.memory import ConversationBufferMemory\n",
    "from langchain.prompts import ChatPromptTemplate, MessagesPlaceholder"
   ]
  },
  {
   "cell_type": "code",
   "execution_count": 48,
   "metadata": {},
   "outputs": [],
   "source": [
    "# Конфигурация памяти для хранения истории диалога\n",
    "memory = ConversationBufferMemory(\n",
    "    memory_key=\"history\",\n",
    "    return_messages=True,\n",
    "    input_key=\"user_input\"\n",
    ")\n",
    "\n",
    "# Шаблон промта с поддержкой контекста\n",
    "prompt_template = ChatPromptTemplate.from_messages([\n",
    "    (\"system\", \"\"\"Вы ассистент по подбору еды. Отвечайте дружелюбно, учитывая историю диалога.\"\"\"),\n",
    "    MessagesPlaceholder(variable_name=\"history\"), (\"human\", \"{user_input}\")\n",
    "])\n",
    "\n",
    "# Создание цепочки обработки\n",
    "chain = LLMChain(\n",
    "    llm=model,\n",
    "    prompt=prompt_template,\n",
    "    memory=memory,\n",
    "    verbose=True\n",
    ")"
   ]
  },
  {
   "cell_type": "code",
   "execution_count": 49,
   "metadata": {},
   "outputs": [
    {
     "name": "stdout",
     "output_type": "stream",
     "text": [
      "\n",
      "\n",
      "\u001b[1m> Entering new LLMChain chain...\u001b[0m\n",
      "Prompt after formatting:\n",
      "\u001b[32;1m\u001b[1;3mSystem: Вы ассистент по подбору еды. Отвечайте дружелюбно, учитывая историю диалога.\n",
      "Human: Привет! Есть что-нибудь сладкое?\u001b[0m\n",
      "\n",
      "\u001b[1m> Finished chain.\u001b[0m\n",
      "Ассистент: Привет! 😊  Конечно есть!   Что тебе больше нравится - шоколадное пирожное, ароматный кекс или может быть свежие ягоды с кремом?  🍓🍰🍫 \n",
      "\n",
      "\n",
      "\n"
     ]
    }
   ],
   "source": [
    "# Первый запрос пользователя\n",
    "response = chain.run(user_input=\"Привет! Есть что-нибудь сладкое?\")\n",
    "print(f\"Ассистент: {response}\")\n",
    "# Output: \"Привет! Что вы хотите? Тортик, снеки?\"\n"
   ]
  },
  {
   "cell_type": "code",
   "execution_count": 32,
   "metadata": {},
   "outputs": [
    {
     "name": "stdout",
     "output_type": "stream",
     "text": [
      "\n",
      "\n",
      "\u001b[1m> Entering new LLMChain chain...\u001b[0m\n",
      "Prompt after formatting:\n",
      "\u001b[32;1m\u001b[1;3mSystem: Вы ассистент по подбору еды. Отвечайте дружелюбно, учитывая историю диалога.\n",
      "Human: Привет! Есть что-нибудь сладкое?\n",
      "AI: Привет!  Конечно есть! Что ты любишь? 🍰🍫🍦  Шоколадный торт, мороженое или может быть чего-то полегче - печенье с малиновым джемом? 😊 Расскажи мне о своих предпочтениях, и я подберу что-нибудь вкусненькое. 💕  \n",
      "\n",
      "Human: Торт\u001b[0m\n",
      "\n",
      "\u001b[1m> Finished chain.\u001b[0m\n",
      "Ассистент: Отличный выбор! 🎂 Какой именно торт ты предпочитаешь? Шоколадный, вишневый, или может быть с фруктами? 😋 \n",
      "\n",
      "\n",
      "\n"
     ]
    }
   ],
   "source": [
    "# Второй запрос (контекст сохраняется)\n",
    "response = chain.run(user_input=\"Торт\")\n",
    "print(f\"Ассистент: {response}\")\n",
    "# Output: \"Могу предложить медовик или наполеон. Что предпочитаете?\""
   ]
  },
  {
   "cell_type": "code",
   "execution_count": 33,
   "metadata": {},
   "outputs": [
    {
     "name": "stdout",
     "output_type": "stream",
     "text": [
      "\n",
      "\n",
      "\u001b[1m> Entering new LLMChain chain...\u001b[0m\n",
      "Prompt after formatting:\n",
      "\u001b[32;1m\u001b[1;3mSystem: Вы ассистент по подбору еды. Отвечайте дружелюбно, учитывая историю диалога.\n",
      "Human: Привет! Есть что-нибудь сладкое?\n",
      "AI: Привет!  Конечно есть! Что ты любишь? 🍰🍫🍦  Шоколадный торт, мороженое или может быть чего-то полегче - печенье с малиновым джемом? 😊 Расскажи мне о своих предпочтениях, и я подберу что-нибудь вкусненькое. 💕  \n",
      "\n",
      "Human: Торт\n",
      "AI: Отличный выбор! 🎂 Какой именно торт ты предпочитаешь? Шоколадный, вишневый, или может быть с фруктами? 😋 \n",
      "\n",
      "\n",
      "\n",
      "Human: С кремом\u001b[0m\n",
      "\n",
      "\u001b[1m> Finished chain.\u001b[0m\n",
      "Ассистент: Отличная идея! 🍰💖   А какой крем тебе нравится больше - сливочный, ванильный,  белый шоколад? 🤔  Я могу предложить тебе что-нибудь по нашему каталогу тортов с кремом.\n",
      "\n",
      "\n",
      "\n"
     ]
    }
   ],
   "source": [
    "# Третий запрос с уточнением\n",
    "response = chain.run(user_input=\"С кремом\")\n",
    "print(f\"Ассистент: {response}\")\n",
    "# Output: \"Наполеон с заварным кремом. Хотите оформить заказ?\""
   ]
  },
  {
   "cell_type": "markdown",
   "metadata": {},
   "source": []
  },
  {
   "cell_type": "markdown",
   "metadata": {},
   "source": [
    "## Final"
   ]
  },
  {
   "cell_type": "code",
   "execution_count": 106,
   "metadata": {},
   "outputs": [],
   "source": [
    "from langchain.chains import LLMChain\n",
    "from langchain.memory import ConversationBufferMemory, ReadOnlySharedMemory\n",
    "from langchain.prompts import PromptTemplate\n",
    "from langchain_ollama.llms import OllamaLLM\n",
    "from search_engine import FaissSearchEngine\n",
    "from typing import List, Dict, Optional\n"
   ]
  },
  {
   "cell_type": "code",
   "execution_count": 107,
   "metadata": {},
   "outputs": [
    {
     "data": {
      "text/html": [
       "<div>\n",
       "<style scoped>\n",
       "    .dataframe tbody tr th:only-of-type {\n",
       "        vertical-align: middle;\n",
       "    }\n",
       "\n",
       "    .dataframe tbody tr th {\n",
       "        vertical-align: top;\n",
       "    }\n",
       "\n",
       "    .dataframe thead th {\n",
       "        text-align: right;\n",
       "    }\n",
       "</style>\n",
       "<table border=\"1\" class=\"dataframe\">\n",
       "  <thead>\n",
       "    <tr style=\"text-align: right;\">\n",
       "      <th></th>\n",
       "      <th>Unnamed: 0</th>\n",
       "      <th>country_code</th>\n",
       "      <th>city_code</th>\n",
       "      <th>store_name</th>\n",
       "      <th>product_name</th>\n",
       "      <th>collection_section</th>\n",
       "      <th>product_description</th>\n",
       "      <th>subset</th>\n",
       "      <th>hash</th>\n",
       "      <th>aux_store</th>\n",
       "      <th>HIER</th>\n",
       "      <th>s3_path</th>\n",
       "      <th>full_name</th>\n",
       "      <th>id</th>\n",
       "    </tr>\n",
       "  </thead>\n",
       "  <tbody>\n",
       "    <tr>\n",
       "      <th>0</th>\n",
       "      <td>753</td>\n",
       "      <td>UA</td>\n",
       "      <td>MPL</td>\n",
       "      <td>Mikado</td>\n",
       "      <td>Рол Кампай (220 г)</td>\n",
       "      <td>РОЛИ DELUX</td>\n",
       "      <td>Угорь, лосось, том ям, огурец, лист салата, сы...</td>\n",
       "      <td>train</td>\n",
       "      <td>3903697417650224690</td>\n",
       "      <td>False</td>\n",
       "      <td>True</td>\n",
       "      <td>dataset/BDKZJSR_0000806_2000078286.png</td>\n",
       "      <td>Рол Кампай (220 г) \\n Угорь, лосось, том ям, о...</td>\n",
       "      <td>25497</td>\n",
       "    </tr>\n",
       "    <tr>\n",
       "      <th>1</th>\n",
       "      <td>5766</td>\n",
       "      <td>UA</td>\n",
       "      <td>MPL</td>\n",
       "      <td>New York Street Pizza</td>\n",
       "      <td>Тотори Сикору (220 г)</td>\n",
       "      <td>Эти роли</td>\n",
       "      <td>Морской гребешок, сыр для суши, огурец, икра к...</td>\n",
       "      <td>train</td>\n",
       "      <td>-3451380953300451258</td>\n",
       "      <td>False</td>\n",
       "      <td>True</td>\n",
       "      <td>dataset/BDKZJSR_0000503_1927787986.png</td>\n",
       "      <td>Тотори Сикору (220 г) \\n Морской гребешок, сыр...</td>\n",
       "      <td>85908</td>\n",
       "    </tr>\n",
       "    <tr>\n",
       "      <th>2</th>\n",
       "      <td>6601</td>\n",
       "      <td>UA</td>\n",
       "      <td>MPL</td>\n",
       "      <td>New York Street Pizza</td>\n",
       "      <td>Салат Цезарь с лососем (200 г)</td>\n",
       "      <td>Салаты и антипасты</td>\n",
       "      <td>Салат из разных овощей, слабосоленый лосось, п...</td>\n",
       "      <td>train</td>\n",
       "      <td>-3276916747514226914</td>\n",
       "      <td>False</td>\n",
       "      <td>True</td>\n",
       "      <td>dataset/BDKZJSR_0000423_1927638127.png</td>\n",
       "      <td>Салат Цезарь с лососем (200 г) \\n Салат из раз...</td>\n",
       "      <td>12266</td>\n",
       "    </tr>\n",
       "    <tr>\n",
       "      <th>3</th>\n",
       "      <td>7153</td>\n",
       "      <td>UA</td>\n",
       "      <td>MPL</td>\n",
       "      <td>Detroit. City diner</td>\n",
       "      <td>Рыба и чипсы (280 г)</td>\n",
       "      <td>На старт!</td>\n",
       "      <td>С чесночным йогуртом</td>\n",
       "      <td>train</td>\n",
       "      <td>-991058856461244767</td>\n",
       "      <td>False</td>\n",
       "      <td>True</td>\n",
       "      <td>dataset/BDKZJSR_0000538_1944956442.png</td>\n",
       "      <td>Рыба и чипсы (280 г) \\n С чесночным йогуртом</td>\n",
       "      <td>53171</td>\n",
       "    </tr>\n",
       "    <tr>\n",
       "      <th>4</th>\n",
       "      <td>7771</td>\n",
       "      <td>UA</td>\n",
       "      <td>MPL</td>\n",
       "      <td>Mafia / Мафія</td>\n",
       "      <td>Газировка «Моршинська» (0,75 л)</td>\n",
       "      <td>Напитки</td>\n",
       "      <td>Минеральная газированная вода</td>\n",
       "      <td>train</td>\n",
       "      <td>-8606000751944571868</td>\n",
       "      <td>False</td>\n",
       "      <td>True</td>\n",
       "      <td>dataset/BDKZJSR_0000103_1882646104.png</td>\n",
       "      <td>Газировка «Моршинська» (0,75 л) \\n Минеральная...</td>\n",
       "      <td>20355</td>\n",
       "    </tr>\n",
       "  </tbody>\n",
       "</table>\n",
       "</div>"
      ],
      "text/plain": [
       "   Unnamed: 0 country_code city_code             store_name  \\\n",
       "0         753           UA       MPL                 Mikado   \n",
       "1        5766           UA       MPL  New York Street Pizza   \n",
       "2        6601           UA       MPL  New York Street Pizza   \n",
       "3        7153           UA       MPL    Detroit. City diner   \n",
       "4        7771           UA       MPL          Mafia / Мафія   \n",
       "\n",
       "                      product_name  collection_section  \\\n",
       "0               Рол Кампай (220 г)          РОЛИ DELUX   \n",
       "1            Тотори Сикору (220 г)            Эти роли   \n",
       "2   Салат Цезарь с лососем (200 г)  Салаты и антипасты   \n",
       "3             Рыба и чипсы (280 г)           На старт!   \n",
       "4  Газировка «Моршинська» (0,75 л)             Напитки   \n",
       "\n",
       "                                 product_description subset  \\\n",
       "0  Угорь, лосось, том ям, огурец, лист салата, сы...  train   \n",
       "1  Морской гребешок, сыр для суши, огурец, икра к...  train   \n",
       "2  Салат из разных овощей, слабосоленый лосось, п...  train   \n",
       "3                               С чесночным йогуртом  train   \n",
       "4                      Минеральная газированная вода  train   \n",
       "\n",
       "                  hash  aux_store  HIER  \\\n",
       "0  3903697417650224690      False  True   \n",
       "1 -3451380953300451258      False  True   \n",
       "2 -3276916747514226914      False  True   \n",
       "3  -991058856461244767      False  True   \n",
       "4 -8606000751944571868      False  True   \n",
       "\n",
       "                                  s3_path  \\\n",
       "0  dataset/BDKZJSR_0000806_2000078286.png   \n",
       "1  dataset/BDKZJSR_0000503_1927787986.png   \n",
       "2  dataset/BDKZJSR_0000423_1927638127.png   \n",
       "3  dataset/BDKZJSR_0000538_1944956442.png   \n",
       "4  dataset/BDKZJSR_0000103_1882646104.png   \n",
       "\n",
       "                                           full_name     id  \n",
       "0  Рол Кампай (220 г) \\n Угорь, лосось, том ям, о...  25497  \n",
       "1  Тотори Сикору (220 г) \\n Морской гребешок, сыр...  85908  \n",
       "2  Салат Цезарь с лососем (200 г) \\n Салат из раз...  12266  \n",
       "3       Рыба и чипсы (280 г) \\n С чесночным йогуртом  53171  \n",
       "4  Газировка «Моршинська» (0,75 л) \\n Минеральная...  20355  "
      ]
     },
     "execution_count": 107,
     "metadata": {},
     "output_type": "execute_result"
    }
   ],
   "source": [
    "items_bd = pd.read_csv('../../Downloads/base_ua_db.csv')\n",
    "items_bd.head()"
   ]
  },
  {
   "cell_type": "code",
   "execution_count": 108,
   "metadata": {},
   "outputs": [
    {
     "name": "stdout",
     "output_type": "stream",
     "text": [
      "Index and data loaded successfully\n"
     ]
    }
   ],
   "source": [
    "MODEL_PATH = '../models/rubert-tiny-turbo'\n",
    "INDEX_PATH = 'faiss_index.bin'\n",
    "\n",
    "search_engine = FaissSearchEngine(model_path=MODEL_PATH)\n",
    "search_engine.load_index(INDEX_PATH)"
   ]
  },
  {
   "cell_type": "code",
   "execution_count": 109,
   "metadata": {},
   "outputs": [
    {
     "data": {
      "text/plain": [
       "np.int64(25497)"
      ]
     },
     "execution_count": 109,
     "metadata": {},
     "output_type": "execute_result"
    }
   ],
   "source": [
    "items_bd.iloc[0]['id']"
   ]
  },
  {
   "cell_type": "code",
   "execution_count": 110,
   "metadata": {},
   "outputs": [],
   "source": [
    "class ShoppingAssistant:\n",
    "    def __init__(self, model, items_bd: pd.DataFrame, search_engine: FaissSearchEngine):\n",
    "        self.llm = model\n",
    "        self.items_bd = items_bd\n",
    "        self.search_engine = search_engine\n",
    "\n",
    "        # истории диалога\n",
    "        self.memory = ConversationBufferMemory() \n",
    "        self.readonly_memory = ReadOnlySharedMemory(memory=self.memory)\n",
    "        \n",
    "        # id текущих товаров в корзине пользователя\n",
    "        self.current_product_ids: List[int] = []\n",
    "        \n",
    "        # Агент для генерации категорий\n",
    "        self.category_agent = LLMChain(\n",
    "            llm=self.llm,\n",
    "            prompt=PromptTemplate(\n",
    "                input_variables=[\"history\", \"input\"],\n",
    "                template=\"\"\"Ты помощник по подбору еды. Предложи продукты, которые нужны пользователю, исходя из его запроса\n",
    "                \n",
    "                История диалога:\n",
    "                {history}\n",
    "                \n",
    "                Запрос: {input}\n",
    "                Категории (только названия через запятую):\"\"\"\n",
    "            ),\n",
    "            memory=self.memory,\n",
    "            output_key=\"categories\"\n",
    "        )\n",
    "        \n",
    "        # Агент для редактирования списка\n",
    "        self.editor_agent = LLMChain(\n",
    "            llm=self.llm,\n",
    "            prompt=PromptTemplate(\n",
    "                input_variables=[\"current_products\", \"input\", \"history\"],\n",
    "                template=\"\"\"Тебе будет дан список товаров и комментарий пользователя. Отредактируй список товаров на основе комментария пользователя.\n",
    "                Если товар менять не надо, выведи его название без изменений.\n",
    "                Если пользователь хочет что-то другое, замени товар.\n",
    "                Если пользователь просит что-то добавить, добавь новый товар.\n",
    "                \n",
    "                История диалога:\n",
    "                {history}\n",
    "\n",
    "                Текущие товары:\n",
    "                {current_products}\n",
    "                \n",
    "                Запрос: {input}\n",
    "                Новый список товаров (только названия, каждое с новой строки):\"\"\"\n",
    "            ),\n",
    "            memory=ConversationBufferMemory(\n",
    "                memory_key=\"history\",\n",
    "                input_key=\"input\"  # Явное указание ключа для памяти\n",
    "            ),\n",
    "            output_key=\"updated_products\"\n",
    "        )\n",
    "\n",
    "        # агент для выбора лучшего товара\n",
    "        self.best_item_agent = LLMChain(\n",
    "            llm=self.llm,\n",
    "            prompt=PromptTemplate(\n",
    "                input_variables=[\"relevant_products\", \"input\", \"history\"],\n",
    "                template=\"\"\"Тебе будет дан список товаров и запрос пользователя.\n",
    "                Выбери ОДИН лучший товар на основе запроса пользователя и выведи его id.\n",
    "                Выводи только id лучшего товара и больше ничего.\n",
    "                Список товаров: {relevant_products}\n",
    "                \n",
    "                История диалога:\n",
    "                {history}\n",
    "                \n",
    "                Запрос: {input}\n",
    "                \"\"\"\n",
    "            ),\n",
    "            memory=self.readonly_memory,\n",
    "            output_key=\"best_product_id\"\n",
    "        )\n",
    "\n",
    "        # агент для аргументации выбора\n",
    "        self.explainer_agent = LLMChain(\n",
    "            llm=self.llm,\n",
    "            prompt=PromptTemplate(\n",
    "                input_variables=[\"best_products\", \"input\", \"history\"],\n",
    "                template=\"\"\"Ты очень доброжелательный и дружелюбный ассистент, помогающий пользователю с выбором продуктов.\n",
    "                Тебе будет дан список товаров и запрос пользователя.\n",
    "                Объясни пользователю, почему эти товары подходят ему лучше всего исходя из его запроса в 1 - 2 предложениях.\n",
    "                Список товаров: {best_products}\n",
    "                История диалога:\n",
    "                {history}\n",
    "                Запрос: {input}\"\"\"\n",
    "            ),\n",
    "            memory=self.readonly_memory,\n",
    "            output_key=\"explanation\"\n",
    "        )\n",
    "\n",
    "    def get_relevant_pruduct_id(self, user_input: str, product: str) -> str:\n",
    "        relevant_products = search_engine.search(product, top_n=10)\n",
    "        relevant_products =  ' \\n '.join(list(map(str, relevant_products)))\n",
    "\n",
    "        best_product = self.best_item_agent({\n",
    "            \"input\": user_input,\n",
    "            \"history\": self.memory.load_memory_variables({})[\"history\"],\n",
    "            'relevant_products': relevant_products\n",
    "        })\n",
    "\n",
    "    \n",
    "        return best_product['best_product_id'].strip()\n",
    "    \n",
    "    def get_product_name_by_id(self, ids: List[int]) -> List[int]:\n",
    "        return list(self.items_bd[items_bd['id'].isin(ids)]['product_name'].values)\n",
    "    \n",
    "    def get_full_name_by_id(self, ids: List[int]) -> List[int]:\n",
    "        return list(self.items_bd[items_bd['id'].isin(ids)]['full_name'].values)\n",
    "    \n",
    "    def get_current_product_ids(self) -> List[int]:\n",
    "        return self.current_product_ids\n",
    "\n",
    "    def process_message(self, user_input:str) -> None:\n",
    "        if not self.current_product_ids:\n",
    "            response = self.category_agent({\n",
    "                \"input\": user_input,\n",
    "                \"history\": self.memory.load_memory_variables({})[\"history\"]\n",
    "            })\n",
    "            generated_products = response[\"categories\"].split(\", \")\n",
    "            best_product_ids = []\n",
    "            # print(current_products)\n",
    "\n",
    "            for product in generated_products:\n",
    "                if len(product) <= 3:\n",
    "                    continue\n",
    "                relevant_product_id = self.get_relevant_pruduct_id(user_input, product)\n",
    "                # print(relevant_product_id)\n",
    "\n",
    "                try:\n",
    "                    best_product_id = int(relevant_product_id)\n",
    "                    best_product_ids.append(best_product_id)\n",
    "                except:\n",
    "                    continue\n",
    "\n",
    "            \n",
    "            # id лучших товаров - best_product_ids\n",
    "            # пока вовзвращаю названия,  а так можно id\n",
    "            print(best_product_ids)\n",
    "\n",
    "            # print(best_product_ids)\n",
    "\n",
    "            # print(items_bd['id'].values[:10])\n",
    "            self.current_product_ids = list(items_bd[items_bd['id'].isin(best_product_ids)]['id'].values)\n",
    "            self.current_product_ids = [int(product_id) for product_id in self.current_product_ids]\n",
    "            # self.current_product_ids = [product.strip() for product in self.current_product_ids]\n",
    "            # print(self.current_product_ids)\n",
    "\n",
    "            explanation = self.explainer_agent({\n",
    "                \"input\": user_input,\n",
    "                \"history\": self.memory.load_memory_variables({})[\"history\"],\n",
    "                \"best_products\": self.get_full_name_by_id(self.current_product_ids)\n",
    "            })\n",
    "            print(f\"РЕКОМЕНДУЕМЫЕ ТОВАРЫ:\\n------\\n {'\\n------\\n'.join(self.get_full_name_by_id(self.current_product_ids))}\")\n",
    "            print(f\"\\nОБЪЯСНЕНИЕ:\\n {explanation['explanation']}\")\n",
    "            return None\n",
    "        else:\n",
    "            response = self.editor_agent({\n",
    "                \"input\": user_input,  # Основной ключ для памяти\n",
    "                \"current_products\": \", \".join(self.get_product_name_by_id(self.current_product_ids)),\n",
    "                \"history\": self.memory.load_memory_variables({})[\"history\"]\n",
    "            })\n",
    "            updated_products = [p.strip() for p in response[\"updated_products\"].split(\"\\n\")]\n",
    "            print('Текущие')\n",
    "            print(self.current_product_ids)\n",
    "            print('Обновленные (добавила LLM)')\n",
    "            print(updated_products)\n",
    "\n",
    "            new_products = list(set(updated_products) - set(self.get_product_name_by_id(self.current_product_ids)))\n",
    "            id2name = {\n",
    "                product_id: self.get_product_name_by_id([product_id])[0] for product_id in self.current_product_ids\n",
    "            }\n",
    "\n",
    "            updated_product_ids = []\n",
    "            for product_id, product_name in id2name.items():\n",
    "                if product_name in updated_products:\n",
    "                    updated_product_ids.append(product_id)\n",
    "\n",
    "            # print(id2name)\n",
    "            # updated_products = list(set(updated_products) & set(self.current_products))\n",
    "\n",
    "            for product in new_products:\n",
    "                if len(product) <= 3:\n",
    "                    continue\n",
    "                print('Новый продукт:', product)\n",
    "                relevant_product_id = self.get_relevant_pruduct_id(user_input, product)\n",
    "\n",
    "                try:\n",
    "                    best_product_id = int(relevant_product_id)\n",
    "                    # best_product_name = items_bd[items_bd['id'] == best_product_id]['id'].values[0].strip()\n",
    "                    updated_product_ids.append(best_product_id)\n",
    "                except:\n",
    "                    continue\n",
    "            print('Итоговый обновленный список (из реальных продуктов)')\n",
    "            print(updated_product_ids)\n",
    "            print(self.get_full_name_by_id(updated_product_ids))\n",
    "            updated_product_ids = [int(product_id) for product_id in updated_product_ids]\n",
    "            self.current_product_ids = updated_product_ids\n",
    "            return None\n"
   ]
  },
  {
   "cell_type": "code",
   "execution_count": 111,
   "metadata": {},
   "outputs": [],
   "source": [
    "model = OllamaLLM(model=\"gemma2\")\n"
   ]
  },
  {
   "cell_type": "code",
   "execution_count": 112,
   "metadata": {},
   "outputs": [
    {
     "name": "stdout",
     "output_type": "stream",
     "text": [
      "[59737, 24311]\n",
      "РЕКОМЕНДУЕМЫЕ ТОВАРЫ:\n",
      "------\n",
      " Пепси (1 л) \n",
      " Газированный напиток\n",
      "------\n",
      "Супер Фила XXXL (58 шт., 1475 г) \n",
      " Ролл филадельфия с усами, Ролл калифорния, Макі з маслом, Макі з лососем - 2 шт., Ролл филадельфия с лососем, Чез-ролл.\n",
      "\n",
      "ОБЪЯСНЕНИЕ:\n",
      " Отличный выбор!  Пепси прекрасно освежит тебя после вкусного ужина из суши \"Супер Фила XXXL\", в котором есть множество видов роллов, включая твой любимый — филадельфия. \n",
      "\n",
      "\n",
      "\n"
     ]
    }
   ],
   "source": [
    "assistant = ShoppingAssistant(model=model, items_bd=items_bd, search_engine=search_engine)\n",
    "\n",
    "assistant.process_message(\"Закажи кока колу и рол филадельфия\")\n"
   ]
  },
  {
   "cell_type": "code",
   "execution_count": 113,
   "metadata": {},
   "outputs": [
    {
     "data": {
      "text/plain": [
       "[59737, 24311]"
      ]
     },
     "execution_count": 113,
     "metadata": {},
     "output_type": "execute_result"
    }
   ],
   "source": [
    "assistant.current_product_ids"
   ]
  },
  {
   "cell_type": "code",
   "execution_count": 114,
   "metadata": {},
   "outputs": [
    {
     "name": "stdout",
     "output_type": "stream",
     "text": [
      "Текущие\n",
      "[59737, 24311]\n",
      "Обновленные (добавила LLM)\n",
      "['Пепси (1 л)', 'Супер Фила XXXL (58 шт., 1475 г)', 'Чипсы', '']\n",
      "Новый продукт: Чипсы\n",
      "Итоговый обновленный список (из реальных продуктов)\n",
      "[59737, 24311, 64734]\n",
      "['Пепси (1 л) \\n Газированный напиток', 'Супер Фила XXXL (58 шт., 1475 г) \\n Ролл филадельфия с усами, Ролл калифорния, Макі з маслом, Макі з лососем - 2 шт., Ролл филадельфия с лососем, Чез-ролл.', 'Чипсы куриные Кари (50г) \\n Филе курицы, маринованное с пряными специями, высушенное в специальных печах с добавлением дижонской горчицы. В отличие от обычных чипсов не содержит консервантов, большого количества масла, модифицированного крахмала и синтетических вкусовых добавок.']\n"
     ]
    }
   ],
   "source": [
    "assistant.process_message(\"Добавь чипсов\")"
   ]
  },
  {
   "cell_type": "code",
   "execution_count": null,
   "metadata": {},
   "outputs": [
    {
     "data": {
      "text/plain": [
       "['Пепси (1 л) \\n Газированный напиток',\n",
       " 'Супер Фила XXXL (58 шт., 1475 г) \\n Ролл филадельфия с усами, Ролл калифорния, Макі з маслом, Макі з лососем - 2 шт., Ролл филадельфия с лососем, Чез-ролл.',\n",
       " 'Чипсы куриные Кари (50г) \\n Филе курицы, маринованное с пряными специями, высушенное в специальных печах с добавлением дижонской горчицы. В отличие от обычных чипсов не содержит консервантов, большого количества масла, модифицированного крахмала и синтетических вкусовых добавок.']"
      ]
     },
     "execution_count": 116,
     "metadata": {},
     "output_type": "execute_result"
    }
   ],
   "source": [
    "assistant.get_full_name_by_id(assistant.current_product_ids)"
   ]
  },
  {
   "cell_type": "code",
   "execution_count": 117,
   "metadata": {},
   "outputs": [
    {
     "name": "stdout",
     "output_type": "stream",
     "text": [
      "Текущие\n",
      "[59737, 24311, 64734]\n",
      "Обновленные (добавила LLM)\n",
      "['Пепси (1 л)', 'Супер Фила XXXL (58 шт., 1475 г)', 'Чипсы куриные Кари (50г)', 'Шоколадные конфеты', 'Желейные карамельки', '']\n",
      "Новый продукт: Шоколадные конфеты\n",
      "Новый продукт: Желейные карамельки\n",
      "Итоговый обновленный список (из реальных продуктов)\n",
      "[59737, 24311, 64734, 48367, 67621]\n",
      "['Шоколадный торт с соленой карамелью (1100 г) \\n Роскошный шоколадный торт. Толстый слой темного шоколада с соленой карамелью между воздушными шоколадными бисквитами. Украшен мягким шоколадом с фундуком.', 'Итальянский завтрак с карамелью (380 г) \\n Нежная пончиковая булочка, запеченная в вафельной форме, подается с нежным карамельно-йогуртовым соусом, жареным арахисом и шариком мороженого.', 'Пепси (1 л) \\n Газированный напиток', 'Супер Фила XXXL (58 шт., 1475 г) \\n Ролл филадельфия с усами, Ролл калифорния, Макі з маслом, Макі з лососем - 2 шт., Ролл филадельфия с лососем, Чез-ролл.', 'Чипсы куриные Кари (50г) \\n Филе курицы, маринованное с пряными специями, высушенное в специальных печах с добавлением дижонской горчицы. В отличие от обычных чипсов не содержит консервантов, большого количества масла, модифицированного крахмала и синтетических вкусовых добавок.']\n"
     ]
    }
   ],
   "source": [
    "assistant.process_message(\"Добавь парочку сладостей\")"
   ]
  },
  {
   "cell_type": "code",
   "execution_count": 118,
   "metadata": {},
   "outputs": [
    {
     "data": {
      "text/plain": [
       "['Шоколадный торт с соленой карамелью (1100 г) \\n Роскошный шоколадный торт. Толстый слой темного шоколада с соленой карамелью между воздушными шоколадными бисквитами. Украшен мягким шоколадом с фундуком.',\n",
       " 'Итальянский завтрак с карамелью (380 г) \\n Нежная пончиковая булочка, запеченная в вафельной форме, подается с нежным карамельно-йогуртовым соусом, жареным арахисом и шариком мороженого.',\n",
       " 'Пепси (1 л) \\n Газированный напиток',\n",
       " 'Супер Фила XXXL (58 шт., 1475 г) \\n Ролл филадельфия с усами, Ролл калифорния, Макі з маслом, Макі з лососем - 2 шт., Ролл филадельфия с лососем, Чез-ролл.',\n",
       " 'Чипсы куриные Кари (50г) \\n Филе курицы, маринованное с пряными специями, высушенное в специальных печах с добавлением дижонской горчицы. В отличие от обычных чипсов не содержит консервантов, большого количества масла, модифицированного крахмала и синтетических вкусовых добавок.']"
      ]
     },
     "execution_count": 118,
     "metadata": {},
     "output_type": "execute_result"
    }
   ],
   "source": [
    "assistant.get_full_name_by_id(assistant.current_product_ids)"
   ]
  },
  {
   "cell_type": "code",
   "execution_count": 119,
   "metadata": {},
   "outputs": [
    {
     "name": "stdout",
     "output_type": "stream",
     "text": [
      "Текущие\n",
      "[59737, 24311, 64734, 48367, 67621]\n",
      "Обновленные (добавила LLM)\n",
      "['Пепси (1 л)', 'Супер Фила XXXL (58 шт., 1475 г)', 'Чипсы куриные Кари (50г)', '']\n",
      "Итоговый обновленный список (из реальных продуктов)\n",
      "[59737, 24311, 64734]\n",
      "['Пепси (1 л) \\n Газированный напиток', 'Супер Фила XXXL (58 шт., 1475 г) \\n Ролл филадельфия с усами, Ролл калифорния, Макі з маслом, Макі з лососем - 2 шт., Ролл филадельфия с лососем, Чез-ролл.', 'Чипсы куриные Кари (50г) \\n Филе курицы, маринованное с пряными специями, высушенное в специальных печах с добавлением дижонской горчицы. В отличие от обычных чипсов не содержит консервантов, большого количества масла, модифицированного крахмала и синтетических вкусовых добавок.']\n"
     ]
    }
   ],
   "source": [
    "assistant.process_message(\"Удали все сладкое\")\n"
   ]
  },
  {
   "cell_type": "code",
   "execution_count": 120,
   "metadata": {},
   "outputs": [
    {
     "data": {
      "text/plain": [
       "['Пепси (1 л) \\n Газированный напиток',\n",
       " 'Супер Фила XXXL (58 шт., 1475 г) \\n Ролл филадельфия с усами, Ролл калифорния, Макі з маслом, Макі з лососем - 2 шт., Ролл филадельфия с лососем, Чез-ролл.',\n",
       " 'Чипсы куриные Кари (50г) \\n Филе курицы, маринованное с пряными специями, высушенное в специальных печах с добавлением дижонской горчицы. В отличие от обычных чипсов не содержит консервантов, большого количества масла, модифицированного крахмала и синтетических вкусовых добавок.']"
      ]
     },
     "execution_count": 120,
     "metadata": {},
     "output_type": "execute_result"
    }
   ],
   "source": [
    "assistant.get_full_name_by_id(assistant.current_product_ids)"
   ]
  },
  {
   "cell_type": "code",
   "execution_count": 121,
   "metadata": {},
   "outputs": [
    {
     "name": "stdout",
     "output_type": "stream",
     "text": [
      "Текущие\n",
      "[59737, 24311, 64734]\n",
      "Обновленные (добавила LLM)\n",
      "['Пепси (1 л)', 'Супер Фила XXXL (58 шт., 1475 г)', 'Чипсы куриные Кари (50г)', 'Паста итальянская', '']\n",
      "Новый продукт: Паста итальянская\n",
      "Итоговый обновленный список (из реальных продуктов)\n",
      "[59737, 24311, 64734, 57925]\n",
      "['Пепси (1 л) \\n Газированный напиток', 'Супер Фила XXXL (58 шт., 1475 г) \\n Ролл филадельфия с усами, Ролл калифорния, Макі з маслом, Макі з лососем - 2 шт., Ролл филадельфия с лососем, Чез-ролл.', 'Паста Фруті де Маре (370г) \\n Спагетти, фирменный соус, морепродукты, пармезан', 'Чипсы куриные Кари (50г) \\n Филе курицы, маринованное с пряными специями, высушенное в специальных печах с добавлением дижонской горчицы. В отличие от обычных чипсов не содержит консервантов, большого количества масла, модифицированного крахмала и синтетических вкусовых добавок.']\n"
     ]
    }
   ],
   "source": [
    "assistant.process_message(\"А добавь какую нибудь пасту итальянскую\")\n"
   ]
  },
  {
   "cell_type": "code",
   "execution_count": 122,
   "metadata": {},
   "outputs": [
    {
     "data": {
      "text/plain": [
       "['Пепси (1 л) \\n Газированный напиток',\n",
       " 'Супер Фила XXXL (58 шт., 1475 г) \\n Ролл филадельфия с усами, Ролл калифорния, Макі з маслом, Макі з лососем - 2 шт., Ролл филадельфия с лососем, Чез-ролл.',\n",
       " 'Паста Фруті де Маре (370г) \\n Спагетти, фирменный соус, морепродукты, пармезан',\n",
       " 'Чипсы куриные Кари (50г) \\n Филе курицы, маринованное с пряными специями, высушенное в специальных печах с добавлением дижонской горчицы. В отличие от обычных чипсов не содержит консервантов, большого количества масла, модифицированного крахмала и синтетических вкусовых добавок.']"
      ]
     },
     "execution_count": 122,
     "metadata": {},
     "output_type": "execute_result"
    }
   ],
   "source": [
    "assistant.get_full_name_by_id(assistant.current_product_ids)"
   ]
  },
  {
   "cell_type": "code",
   "execution_count": 123,
   "metadata": {},
   "outputs": [
    {
     "name": "stdout",
     "output_type": "stream",
     "text": [
      "Текущие\n",
      "[59737, 24311, 64734, 57925]\n",
      "Обновленные (добавила LLM)\n",
      "['Пепси (1 л)', 'Супер Фила XXXL (58 шт., 1475 г)', 'Чипсы куриные Кари (50г)', 'Паста с курицей', '']\n",
      "Новый продукт: Паста с курицей\n",
      "Итоговый обновленный список (из реальных продуктов)\n",
      "[59737, 24311, 64734, 63964]\n",
      "['Собака с курицей (350 г) \\n Куриное филе, пекинская капуста, морковь, стручковая фасоль, болгарский перец, лук, лапша соба.', 'Пепси (1 л) \\n Газированный напиток', 'Супер Фила XXXL (58 шт., 1475 г) \\n Ролл филадельфия с усами, Ролл калифорния, Макі з маслом, Макі з лососем - 2 шт., Ролл филадельфия с лососем, Чез-ролл.', 'Чипсы куриные Кари (50г) \\n Филе курицы, маринованное с пряными специями, высушенное в специальных печах с добавлением дижонской горчицы. В отличие от обычных чипсов не содержит консервантов, большого количества масла, модифицированного крахмала и синтетических вкусовых добавок.']\n"
     ]
    }
   ],
   "source": [
    "assistant.process_message(\"не, давай вместо морепротудуктов пасту с курицей\")\n"
   ]
  },
  {
   "cell_type": "code",
   "execution_count": 124,
   "metadata": {},
   "outputs": [
    {
     "data": {
      "text/plain": [
       "['Собака с курицей (350 г) \\n Куриное филе, пекинская капуста, морковь, стручковая фасоль, болгарский перец, лук, лапша соба.',\n",
       " 'Пепси (1 л) \\n Газированный напиток',\n",
       " 'Супер Фила XXXL (58 шт., 1475 г) \\n Ролл филадельфия с усами, Ролл калифорния, Макі з маслом, Макі з лососем - 2 шт., Ролл филадельфия с лососем, Чез-ролл.',\n",
       " 'Чипсы куриные Кари (50г) \\n Филе курицы, маринованное с пряными специями, высушенное в специальных печах с добавлением дижонской горчицы. В отличие от обычных чипсов не содержит консервантов, большого количества масла, модифицированного крахмала и синтетических вкусовых добавок.']"
      ]
     },
     "execution_count": 124,
     "metadata": {},
     "output_type": "execute_result"
    }
   ],
   "source": [
    "assistant.get_full_name_by_id(assistant.current_product_ids)"
   ]
  },
  {
   "cell_type": "code",
   "execution_count": 152,
   "metadata": {},
   "outputs": [
    {
     "data": {
      "text/plain": [
       "[{'description': ' Медовик малиновый Вкусвилл',\n",
       "  'id': 327592,\n",
       "  'delievery_time': 102,\n",
       "  'price': 340},\n",
       " {'description': ' Огурцы свежие тепличные среднеплодные, 500г',\n",
       "  'id': 729214,\n",
       "  'delievery_time': 91,\n",
       "  'price': 1197},\n",
       " {'description': ' Овсяная каша быстрого приготовления с фруктами, упаковка 5 порций  ',\n",
       "  'id': 372464,\n",
       "  'delievery_time': 64,\n",
       "  'price': 2199},\n",
       " {'description': ' Чипсы картофельные со вкусом сыра и зелени в тубе, вес:150г',\n",
       "  'id': 323068,\n",
       "  'delievery_time': 25,\n",
       "  'price': 409},\n",
       " {'description': ' Яблоки сорта Гала, свежие и сочные, 1кг',\n",
       "  'id': 726837,\n",
       "  'delievery_time': 101,\n",
       "  'price': 466}]"
      ]
     },
     "execution_count": 152,
     "metadata": {},
     "output_type": "execute_result"
    }
   ],
   "source": [
    "search_engine.search('овощи', top_n=5)"
   ]
  },
  {
   "cell_type": "code",
   "execution_count": null,
   "metadata": {},
   "outputs": [],
   "source": []
  }
 ],
 "metadata": {
  "kernelspec": {
   "display_name": "purple",
   "language": "python",
   "name": "python3"
  },
  "language_info": {
   "codemirror_mode": {
    "name": "ipython",
    "version": 3
   },
   "file_extension": ".py",
   "mimetype": "text/x-python",
   "name": "python",
   "nbconvert_exporter": "python",
   "pygments_lexer": "ipython3",
   "version": "3.12.9"
  }
 },
 "nbformat": 4,
 "nbformat_minor": 2
}
