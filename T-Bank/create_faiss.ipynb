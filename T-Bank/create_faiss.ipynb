{
 "cells": [
  {
   "cell_type": "code",
   "execution_count": 1,
   "metadata": {},
   "outputs": [
    {
     "name": "stderr",
     "output_type": "stream",
     "text": [
      "/opt/anaconda3/envs/purple/lib/python3.12/site-packages/tqdm/auto.py:21: TqdmWarning: IProgress not found. Please update jupyter and ipywidgets. See https://ipywidgets.readthedocs.io/en/stable/user_install.html\n",
      "  from .autonotebook import tqdm as notebook_tqdm\n"
     ]
    }
   ],
   "source": [
    "from random import randint\n",
    "import pandas as pd\n",
    "\n",
    "from search_engine import FaissSearchEngine"
   ]
  },
  {
   "cell_type": "code",
   "execution_count": 2,
   "metadata": {},
   "outputs": [
    {
     "data": {
      "text/html": [
       "<div>\n",
       "<style scoped>\n",
       "    .dataframe tbody tr th:only-of-type {\n",
       "        vertical-align: middle;\n",
       "    }\n",
       "\n",
       "    .dataframe tbody tr th {\n",
       "        vertical-align: top;\n",
       "    }\n",
       "\n",
       "    .dataframe thead th {\n",
       "        text-align: right;\n",
       "    }\n",
       "</style>\n",
       "<table border=\"1\" class=\"dataframe\">\n",
       "  <thead>\n",
       "    <tr style=\"text-align: right;\">\n",
       "      <th></th>\n",
       "      <th>Unnamed: 0</th>\n",
       "      <th>country_code</th>\n",
       "      <th>city_code</th>\n",
       "      <th>store_name</th>\n",
       "      <th>product_name</th>\n",
       "      <th>collection_section</th>\n",
       "      <th>product_description</th>\n",
       "      <th>subset</th>\n",
       "      <th>hash</th>\n",
       "      <th>aux_store</th>\n",
       "      <th>HIER</th>\n",
       "      <th>s3_path</th>\n",
       "      <th>full_name</th>\n",
       "      <th>id</th>\n",
       "      <th>Персональный_кэшбек</th>\n",
       "      <th>Заказов_за_месяц</th>\n",
       "      <th>Персональный_кэшбэк</th>\n",
       "      <th>Цена</th>\n",
       "      <th>Рейтинг</th>\n",
       "      <th>Время_доставки</th>\n",
       "    </tr>\n",
       "  </thead>\n",
       "  <tbody>\n",
       "    <tr>\n",
       "      <th>0</th>\n",
       "      <td>753</td>\n",
       "      <td>UA</td>\n",
       "      <td>MPL</td>\n",
       "      <td>Mikado</td>\n",
       "      <td>Рол Кампай (220 г)</td>\n",
       "      <td>РОЛИ DELUX</td>\n",
       "      <td>Угорь, лосось, том ям, огурец, лист салата, сы...</td>\n",
       "      <td>train</td>\n",
       "      <td>3903697417650224690</td>\n",
       "      <td>False</td>\n",
       "      <td>True</td>\n",
       "      <td>dataset/BDKZJSR_0000806_2000078286.png</td>\n",
       "      <td>Рол Кампай (220 г) \\n Угорь, лосось, том ям, о...</td>\n",
       "      <td>25497</td>\n",
       "      <td>20%</td>\n",
       "      <td>0</td>\n",
       "      <td>0%</td>\n",
       "      <td>1730₽</td>\n",
       "      <td>4.71</td>\n",
       "      <td>40 мин</td>\n",
       "    </tr>\n",
       "    <tr>\n",
       "      <th>1</th>\n",
       "      <td>5766</td>\n",
       "      <td>UA</td>\n",
       "      <td>MPL</td>\n",
       "      <td>New York Street Pizza</td>\n",
       "      <td>Тотори Сикору (220 г)</td>\n",
       "      <td>Эти роли</td>\n",
       "      <td>Морской гребешок, сыр для суши, огурец, икра к...</td>\n",
       "      <td>train</td>\n",
       "      <td>-3451380953300451258</td>\n",
       "      <td>False</td>\n",
       "      <td>True</td>\n",
       "      <td>dataset/BDKZJSR_0000503_1927787986.png</td>\n",
       "      <td>Тотори Сикору (220 г) \\n Морской гребешок, сыр...</td>\n",
       "      <td>85908</td>\n",
       "      <td>0%</td>\n",
       "      <td>0</td>\n",
       "      <td>5%</td>\n",
       "      <td>1790₽</td>\n",
       "      <td>4.85</td>\n",
       "      <td>30 мин</td>\n",
       "    </tr>\n",
       "    <tr>\n",
       "      <th>2</th>\n",
       "      <td>6601</td>\n",
       "      <td>UA</td>\n",
       "      <td>MPL</td>\n",
       "      <td>New York Street Pizza</td>\n",
       "      <td>Салат Цезарь с лососем (200 г)</td>\n",
       "      <td>Салаты и антипасты</td>\n",
       "      <td>Салат из разных овощей, слабосоленый лосось, п...</td>\n",
       "      <td>train</td>\n",
       "      <td>-3276916747514226914</td>\n",
       "      <td>False</td>\n",
       "      <td>True</td>\n",
       "      <td>dataset/BDKZJSR_0000423_1927638127.png</td>\n",
       "      <td>Салат Цезарь с лососем (200 г) \\n Салат из раз...</td>\n",
       "      <td>12266</td>\n",
       "      <td>0%</td>\n",
       "      <td>0</td>\n",
       "      <td>0%</td>\n",
       "      <td>1490₽</td>\n",
       "      <td>4.89</td>\n",
       "      <td>40 мин</td>\n",
       "    </tr>\n",
       "    <tr>\n",
       "      <th>3</th>\n",
       "      <td>7153</td>\n",
       "      <td>UA</td>\n",
       "      <td>MPL</td>\n",
       "      <td>Detroit. City diner</td>\n",
       "      <td>Рыба и чипсы (280 г)</td>\n",
       "      <td>На старт!</td>\n",
       "      <td>С чесночным йогуртом</td>\n",
       "      <td>train</td>\n",
       "      <td>-991058856461244767</td>\n",
       "      <td>False</td>\n",
       "      <td>True</td>\n",
       "      <td>dataset/BDKZJSR_0000538_1944956442.png</td>\n",
       "      <td>Рыба и чипсы (280 г) \\n С чесночным йогуртом</td>\n",
       "      <td>53171</td>\n",
       "      <td>5%</td>\n",
       "      <td>1</td>\n",
       "      <td>0%</td>\n",
       "      <td>740₽</td>\n",
       "      <td>4.92</td>\n",
       "      <td>20 мин</td>\n",
       "    </tr>\n",
       "    <tr>\n",
       "      <th>4</th>\n",
       "      <td>7771</td>\n",
       "      <td>UA</td>\n",
       "      <td>MPL</td>\n",
       "      <td>Mafia / Мафія</td>\n",
       "      <td>Газировка «Моршинська» (0,75 л)</td>\n",
       "      <td>Напитки</td>\n",
       "      <td>Минеральная газированная вода</td>\n",
       "      <td>train</td>\n",
       "      <td>-8606000751944571868</td>\n",
       "      <td>False</td>\n",
       "      <td>True</td>\n",
       "      <td>dataset/BDKZJSR_0000103_1882646104.png</td>\n",
       "      <td>Газировка «Моршинська» (0,75 л) \\n Минеральная...</td>\n",
       "      <td>20355</td>\n",
       "      <td>5%</td>\n",
       "      <td>0</td>\n",
       "      <td>0%</td>\n",
       "      <td>1060₽</td>\n",
       "      <td>4.59</td>\n",
       "      <td>20 мин</td>\n",
       "    </tr>\n",
       "  </tbody>\n",
       "</table>\n",
       "</div>"
      ],
      "text/plain": [
       "   Unnamed: 0 country_code city_code             store_name  \\\n",
       "0         753           UA       MPL                 Mikado   \n",
       "1        5766           UA       MPL  New York Street Pizza   \n",
       "2        6601           UA       MPL  New York Street Pizza   \n",
       "3        7153           UA       MPL    Detroit. City diner   \n",
       "4        7771           UA       MPL          Mafia / Мафія   \n",
       "\n",
       "                      product_name  collection_section  \\\n",
       "0               Рол Кампай (220 г)          РОЛИ DELUX   \n",
       "1            Тотори Сикору (220 г)            Эти роли   \n",
       "2   Салат Цезарь с лососем (200 г)  Салаты и антипасты   \n",
       "3             Рыба и чипсы (280 г)           На старт!   \n",
       "4  Газировка «Моршинська» (0,75 л)             Напитки   \n",
       "\n",
       "                                 product_description subset  \\\n",
       "0  Угорь, лосось, том ям, огурец, лист салата, сы...  train   \n",
       "1  Морской гребешок, сыр для суши, огурец, икра к...  train   \n",
       "2  Салат из разных овощей, слабосоленый лосось, п...  train   \n",
       "3                               С чесночным йогуртом  train   \n",
       "4                      Минеральная газированная вода  train   \n",
       "\n",
       "                  hash  aux_store  HIER  \\\n",
       "0  3903697417650224690      False  True   \n",
       "1 -3451380953300451258      False  True   \n",
       "2 -3276916747514226914      False  True   \n",
       "3  -991058856461244767      False  True   \n",
       "4 -8606000751944571868      False  True   \n",
       "\n",
       "                                  s3_path  \\\n",
       "0  dataset/BDKZJSR_0000806_2000078286.png   \n",
       "1  dataset/BDKZJSR_0000503_1927787986.png   \n",
       "2  dataset/BDKZJSR_0000423_1927638127.png   \n",
       "3  dataset/BDKZJSR_0000538_1944956442.png   \n",
       "4  dataset/BDKZJSR_0000103_1882646104.png   \n",
       "\n",
       "                                           full_name     id  \\\n",
       "0  Рол Кампай (220 г) \\n Угорь, лосось, том ям, о...  25497   \n",
       "1  Тотори Сикору (220 г) \\n Морской гребешок, сыр...  85908   \n",
       "2  Салат Цезарь с лососем (200 г) \\n Салат из раз...  12266   \n",
       "3       Рыба и чипсы (280 г) \\n С чесночным йогуртом  53171   \n",
       "4  Газировка «Моршинська» (0,75 л) \\n Минеральная...  20355   \n",
       "\n",
       "  Персональный_кэшбек  Заказов_за_месяц Персональный_кэшбэк   Цена  Рейтинг  \\\n",
       "0                 20%                 0                  0%  1730₽     4.71   \n",
       "1                  0%                 0                  5%  1790₽     4.85   \n",
       "2                  0%                 0                  0%  1490₽     4.89   \n",
       "3                  5%                 1                  0%   740₽     4.92   \n",
       "4                  5%                 0                  0%  1060₽     4.59   \n",
       "\n",
       "  Время_доставки  \n",
       "0         40 мин  \n",
       "1         30 мин  \n",
       "2         40 мин  \n",
       "3         20 мин  \n",
       "4         20 мин  "
      ]
     },
     "execution_count": 2,
     "metadata": {},
     "output_type": "execute_result"
    }
   ],
   "source": [
    "items_bd = pd.read_csv('../../Downloads/items_bd_final.csv')\n",
    "# items_bd['full_name'] = items_bd['product_name'] + ' \\n ' + items_bd['product_description']\n",
    "# items_bd['id'] = [int(randint(1000000, 10000000)) for _ in range(len(items_bd))]\n",
    "# items_bd['id'] = items_bd['id'].astype(int)\n",
    "items_bd.head()"
   ]
  },
  {
   "cell_type": "code",
   "execution_count": 3,
   "metadata": {},
   "outputs": [],
   "source": [
    "# items_bd.to_csv('../../Downloads/items_bd.csv', index=False)"
   ]
  },
  {
   "cell_type": "code",
   "execution_count": 4,
   "metadata": {},
   "outputs": [
    {
     "data": {
      "text/plain": [
       "1133"
      ]
     },
     "execution_count": 4,
     "metadata": {},
     "output_type": "execute_result"
    }
   ],
   "source": [
    "len(items_bd)"
   ]
  },
  {
   "cell_type": "code",
   "execution_count": 5,
   "metadata": {},
   "outputs": [
    {
     "name": "stderr",
     "output_type": "stream",
     "text": [
      "Batches: 100%|██████████| 36/36 [00:02<00:00, 15.58it/s]"
     ]
    },
    {
     "name": "stdout",
     "output_type": "stream",
     "text": [
      "Index created and saved to faiss_index.bin\n",
      "Index and data loaded successfully\n"
     ]
    },
    {
     "name": "stderr",
     "output_type": "stream",
     "text": [
      "\n"
     ]
    }
   ],
   "source": [
    "# Инициализация и создание индекса\n",
    "MODEL_PATH = '../models/rubert-tiny-turbo'\n",
    "INDEX_PATH = 'faiss_index.bin'\n",
    "\n",
    "search_engine = FaissSearchEngine(model_path=MODEL_PATH)\n",
    "search_engine.create_index(items_bd, index_path=INDEX_PATH)\n",
    "\n",
    "# Загрузка индекса и данных\n",
    "search_engine.load_index(INDEX_PATH)"
   ]
  },
  {
   "cell_type": "code",
   "execution_count": 10,
   "metadata": {},
   "outputs": [
    {
     "name": "stdout",
     "output_type": "stream",
     "text": [
      "{'full_name': 'Салат из квасоли стручковой (200 г) \\n Фасоль стручковая, чеснок, зелень, соевый соус', 'id': 31328, 'Цена': '1070₽', 'Заказов_за_месяц': 0, 'Персональный_кэшбэк': '0%', 'Время доставки': '60 мин', 'Рейтинг': '4.67'}\n",
      "{'full_name': 'Солёный нежный лосось (700 г) \\n Салат из сыра филадельфия, классический ролл Филадельфия (2 шт), мини-ролл с крабом.', 'id': 57801, 'Цена': '720₽', 'Заказов_за_месяц': 0, 'Персональный_кэшбэк': '0%', 'Время доставки': '60 мин', 'Рейтинг': '4.91'}\n",
      "{'full_name': 'Салат из лосося (250 г) \\n Филе лосося слабосоленого, киноа, сыр филадельфия, авокадо, бобы эдамаме, помидоры черри, микс салата, заправка для салата, огурец, начос, кунжут', 'id': 68622, 'Цена': '680₽', 'Заказов_за_месяц': 0, 'Персональный_кэшбэк': '0%', 'Время доставки': '50 мин', 'Рейтинг': '4.57'}\n",
      "{'full_name': 'Стейк из свинины гриль (180/150/30 г) \\n Шницель из свинины, спаржевая фасоль и джем из лука в кремовом соусе карбонара с соусом барбекю.', 'id': 96584, 'Цена': '1560₽', 'Заказов_за_месяц': 0, 'Персональный_кэшбэк': '0%', 'Время доставки': '40 мин', 'Рейтинг': '4.73'}\n",
      "{'full_name': 'Устрицы \\n В сливочно-сырном соусе', 'id': 71846, 'Цена': '1670₽', 'Заказов_за_месяц': 0, 'Персональный_кэшбэк': '10%', 'Время доставки': '50 мин', 'Рейтинг': '4.88'}\n",
      "{'full_name': 'Сеты суши \"Биг Ролл\" (735 г). \\n Фила с лососем, тунцом и чили (L), два сыра (L), Аляска с окунем (L) и Калифорния в кунжуте.', 'id': 61789, 'Цена': '610₽', 'Заказов_за_месяц': 4, 'Персональный_кэшбэк': '10%', 'Время доставки': '20 мин', 'Рейтинг': '4.55'}\n",
      "{'full_name': 'Салат \"Оселедець під шубою\" (230 г) \\n Картофель, сельди, репчатый лук, свекла, майонез, морковь, яйцо.', 'id': 82374, 'Цена': '1040₽', 'Заказов_за_месяц': 0, 'Персональный_кэшбэк': '0%', 'Время доставки': '50 мин', 'Рейтинг': '4.75'}\n",
      "{'full_name': 'Курица в кляре (8 шт., 255 г) \\n Ролл с творожным сыром, курицей панко, сладким перцем, огурцом, салатом романе в сырной массе чеддер и соусом спайси.', 'id': 26263, 'Цена': '1530₽', 'Заказов_за_месяц': 0, 'Персональный_кэшбэк': '0%', 'Время доставки': '40 мин', 'Рейтинг': '4.67'}\n",
      "{'full_name': 'Салат (240 г) \\n Куриное филе, бекон, помидор, авокадо, микс салата, сыр с голубой плесенью, заправка для салата.', 'id': 59145, 'Цена': '1870₽', 'Заказов_за_месяц': 0, 'Персональный_кэшбэк': '20%', 'Время доставки': '60 мин', 'Рейтинг': '4.59'}\n",
      "{'full_name': 'Коул Слоу (150 г) \\n Салат из капусты, сельдерея и моркови с чесночным соусом', 'id': 69782, 'Цена': '1830₽', 'Заказов_за_месяц': 0, 'Персональный_кэшбэк': '10%', 'Время доставки': '30 мин', 'Рейтинг': '4.72'}\n"
     ]
    }
   ],
   "source": [
    "# Пример поиска\n",
    "results = search_engine.search(\"сальса\", top_n=10)\n",
    "for res in results:\n",
    "    print(res)"
   ]
  },
  {
   "cell_type": "code",
   "execution_count": null,
   "metadata": {},
   "outputs": [],
   "source": []
  }
 ],
 "metadata": {
  "kernelspec": {
   "display_name": "purple",
   "language": "python",
   "name": "python3"
  },
  "language_info": {
   "codemirror_mode": {
    "name": "ipython",
    "version": 3
   },
   "file_extension": ".py",
   "mimetype": "text/x-python",
   "name": "python",
   "nbconvert_exporter": "python",
   "pygments_lexer": "ipython3",
   "version": "3.12.9"
  }
 },
 "nbformat": 4,
 "nbformat_minor": 2
}
